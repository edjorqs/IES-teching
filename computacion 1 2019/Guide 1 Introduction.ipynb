{
 "cells": [
  {
   "cell_type": "markdown",
   "metadata": {},
   "source": [
    "Guía 1: Introducción a Python\n",
    "\n",
    "Ingeniería en Estadística, Universidad de Valparaíso\n",
    "\n",
    "Profesor: Eduardo Jorquera - eduardo.jorquera@postgrado.uv.cl"
   ]
  },
  {
   "cell_type": "markdown",
   "metadata": {},
   "source": [
    "Python es un lenguaje de programación muy utilizado en estadística, *data science*, entre otras materias relacionadas y de desarrollo de *software*.\n",
    "\n",
    "En python existen las operaciones básicas, tales como la suma (+), multiplicación (\\*), potencia (\\*\\*), división (/), módulo(%), entre otras.\n",
    "\n",
    "Por ejemplo, podemos imprimir (print) el resultado de una suma:"
   ]
  },
  {
   "cell_type": "code",
   "execution_count": 1,
   "metadata": {},
   "outputs": [
    {
     "name": "stdout",
     "output_type": "stream",
     "text": [
      "3\n"
     ]
    }
   ],
   "source": [
    "print(2+1)"
   ]
  },
  {
   "cell_type": "markdown",
   "metadata": {},
   "source": [
    "# Actividad\n",
    "Haga uso de estas cinco operaciones básicas, usando el comando print."
   ]
  },
  {
   "cell_type": "code",
   "execution_count": null,
   "metadata": {},
   "outputs": [],
   "source": []
  },
  {
   "cell_type": "markdown",
   "metadata": {},
   "source": [
    "En Python, todo es un objeto, y todo objeto tiene tres propiedades: identidad, tipo, y valor. La identidad es una dirección dada por Python que no cambia. El tipo puede ser cualquiera de los siguientes.\n",
    "\n",
    "**None**: representa la ausencia de un valor.\n",
    "**Números**: Python tiene tres tipos de números:\n",
    "* Entero\n",
    "* Punto flotante (puede almacenar números con decimales)\n",
    "* Complejo (puede almacenar la parte real e imaginaria de un número\n",
    "\n",
    "**Secuencias**: Son colecciones ordenadas de elementos. Hay tres tipos de secuencias en Python:\n",
    "* Cadenas (strings)\n",
    "* Tuplas\n",
    "* Listas\n",
    "\n",
    "Las cadenas de caracteres son muy utilizadas en python, por ejemplo, creemos una variable con algún nombre. Para esto, al lado izquierdo del signo igual ponemos el nombre de la variable, y al lado derecho del signo igual, el valor que tomará la variable:"
   ]
  },
  {
   "cell_type": "code",
   "execution_count": 2,
   "metadata": {},
   "outputs": [],
   "source": [
    "nombre=\"Pedro\""
   ]
  },
  {
   "cell_type": "markdown",
   "metadata": {},
   "source": [
    "Luego, si quiero conocer el contenido de la variable nombre, simplemente la escribo:"
   ]
  },
  {
   "cell_type": "code",
   "execution_count": 3,
   "metadata": {},
   "outputs": [
    {
     "data": {
      "text/plain": [
       "'Pedro'"
      ]
     },
     "execution_count": 3,
     "metadata": {},
     "output_type": "execute_result"
    }
   ],
   "source": [
    "nombre"
   ]
  },
  {
   "cell_type": "markdown",
   "metadata": {},
   "source": [
    "Como se trata de una cadena de caracteres, cada caracter tiene una posición en la cadena (suena redundante, no?)\n",
    "\n",
    "Veamos qué tiene la posición 0 (en Python, siempre la primera posición es la 0)"
   ]
  },
  {
   "cell_type": "code",
   "execution_count": 4,
   "metadata": {},
   "outputs": [
    {
     "data": {
      "text/plain": [
       "'P'"
      ]
     },
     "execution_count": 4,
     "metadata": {},
     "output_type": "execute_result"
    }
   ],
   "source": [
    "nombre[0]"
   ]
  },
  {
   "cell_type": "markdown",
   "metadata": {},
   "source": [
    "Así también con la segunda posición:"
   ]
  },
  {
   "cell_type": "code",
   "execution_count": 5,
   "metadata": {},
   "outputs": [
    {
     "data": {
      "text/plain": [
       "'d'"
      ]
     },
     "execution_count": 5,
     "metadata": {},
     "output_type": "execute_result"
    }
   ],
   "source": [
    "nombre[2]"
   ]
  },
  {
   "cell_type": "markdown",
   "metadata": {},
   "source": [
    "Por si no lo has notado, sólo hemos visto valores enteros de las posiciones. Si queremos acceder a una posición enumerada de derecha a izquierda, podemos usar una numeración negativa:"
   ]
  },
  {
   "cell_type": "code",
   "execution_count": 8,
   "metadata": {},
   "outputs": [
    {
     "data": {
      "text/plain": [
       "'r'"
      ]
     },
     "execution_count": 8,
     "metadata": {},
     "output_type": "execute_result"
    }
   ],
   "source": [
    "nombre[-2]"
   ]
  },
  {
   "cell_type": "markdown",
   "metadata": {},
   "source": [
    "Si eres sigiloso, habrás notado que al contar de derecha a izquierda el -0 no es tomada como la última posición en la cadena de caracteres! con la posición -1 puedes acceder a la última letra de la cadena. ¿Por qué crees que pasa esto?"
   ]
  },
  {
   "cell_type": "markdown",
   "metadata": {},
   "source": [
    "Responde aquí o_o"
   ]
  },
  {
   "cell_type": "markdown",
   "metadata": {},
   "source": [
    "También se puede conocer el largo de una cadena de caracteres con el comando len:"
   ]
  },
  {
   "cell_type": "code",
   "execution_count": 9,
   "metadata": {},
   "outputs": [
    {
     "data": {
      "text/plain": [
       "5"
      ]
     },
     "execution_count": 9,
     "metadata": {},
     "output_type": "execute_result"
    }
   ],
   "source": [
    "len(nombre)"
   ]
  },
  {
   "cell_type": "markdown",
   "metadata": {},
   "source": [
    "## Actividad\n",
    "Si no conozco el largo de una cadena de caracteres, cómo puedo saber cuál es el último caracter? use la variable nombre."
   ]
  },
  {
   "cell_type": "code",
   "execution_count": null,
   "metadata": {},
   "outputs": [],
   "source": []
  },
  {
   "cell_type": "markdown",
   "metadata": {},
   "source": [
    "También podemos juntar varias cadenas de caracteres en una sola, por ejemplo, inventemos un apellido para Pedro:"
   ]
  },
  {
   "cell_type": "code",
   "execution_count": 15,
   "metadata": {},
   "outputs": [],
   "source": [
    "apellido=\"Pérez\""
   ]
  },
  {
   "cell_type": "markdown",
   "metadata": {},
   "source": [
    "Ahora, al tratarse de cadenas de caracteres, podemos usar la suma para unir (concatenar) varias cadenas:"
   ]
  },
  {
   "cell_type": "code",
   "execution_count": 18,
   "metadata": {},
   "outputs": [
    {
     "name": "stdout",
     "output_type": "stream",
     "text": [
      "PedroPérez\n"
     ]
    }
   ],
   "source": [
    "print(nombre+apellido)"
   ]
  },
  {
   "cell_type": "markdown",
   "metadata": {},
   "source": [
    "Genial...! Pero hay algo poco estético ahí, no? podemos agregar un espacio entre el nombre y el apellido, usando el mismo comando print de dos fromas distintas, pon atención a su uso!"
   ]
  },
  {
   "cell_type": "code",
   "execution_count": 22,
   "metadata": {},
   "outputs": [
    {
     "name": "stdout",
     "output_type": "stream",
     "text": [
      "Pedro Pérez\n"
     ]
    }
   ],
   "source": [
    "print(nombre+\" \"+apellido)"
   ]
  },
  {
   "cell_type": "code",
   "execution_count": 23,
   "metadata": {},
   "outputs": [
    {
     "name": "stdout",
     "output_type": "stream",
     "text": [
      "Pedro Pérez\n"
     ]
    }
   ],
   "source": [
    "print(nombre, apellido)"
   ]
  },
  {
   "cell_type": "markdown",
   "metadata": {},
   "source": [
    "También con el comando print podemos agregar cadenas de caracteres, de la forma que más te acomode:"
   ]
  },
  {
   "cell_type": "code",
   "execution_count": 28,
   "metadata": {},
   "outputs": [
    {
     "name": "stdout",
     "output_type": "stream",
     "text": [
      "Pedro Pérez García\n"
     ]
    }
   ],
   "source": [
    "print(nombre+\" \"+apellido+\" García\")"
   ]
  },
  {
   "cell_type": "code",
   "execution_count": 27,
   "metadata": {},
   "outputs": [
    {
     "name": "stdout",
     "output_type": "stream",
     "text": [
      "Pedro Pérez García\n"
     ]
    }
   ],
   "source": [
    "print(nombre, apellido, \"García\")"
   ]
  },
  {
   "cell_type": "markdown",
   "metadata": {},
   "source": [
    "Seguramente ya habrás notado que la coma (,) en el print, agrega un espacio al imprimir.\n",
    "\n",
    "También podemos imprimir lo que está a la izquierda o a la derecha de una cadena de caracteres:"
   ]
  },
  {
   "cell_type": "code",
   "execution_count": 50,
   "metadata": {},
   "outputs": [
    {
     "name": "stdout",
     "output_type": "stream",
     "text": [
      "Ahora veremos lo que hay después del quinto caracter\n",
      " Pérez García\n",
      "Y ahora lo que hay antes del sexto caracter (incluyendo el quinto)\n",
      "Pedro\n"
     ]
    }
   ],
   "source": [
    "nom_comp=nombre+\" \"+apellido+\" García\" #nombre completo\n",
    "print(\"Ahora veremos lo que hay después del quinto caracter\")\n",
    "print(nom_comp[5:])\n",
    "print(\"Y ahora lo que hay antes del sexto caracter (incluyendo el quinto)\")\n",
    "print(nom_comp[:5])"
   ]
  },
  {
   "cell_type": "markdown",
   "metadata": {},
   "source": [
    "# Actividad\n",
    "Usando la notación anterior, muestre el último caracter de nom_comp"
   ]
  },
  {
   "cell_type": "code",
   "execution_count": null,
   "metadata": {},
   "outputs": [],
   "source": []
  },
  {
   "cell_type": "markdown",
   "metadata": {},
   "source": [
    "# TAREA:\n",
    "* Dado una cadena de caracteres de largo mayor a dos, escriba un código que contenga a los primeros dos caracteres concatenados con los dos últimos.\n",
    "* Dado una cadena de caracteres de largo mayor a cuatro, escriba un código que quite los primeros dos y los últimos dos caracteres."
   ]
  },
  {
   "cell_type": "code",
   "execution_count": null,
   "metadata": {},
   "outputs": [],
   "source": []
  }
 ],
 "metadata": {
  "kernelspec": {
   "display_name": "Python 3",
   "language": "python",
   "name": "python3"
  },
  "language_info": {
   "codemirror_mode": {
    "name": "ipython",
    "version": 3
   },
   "file_extension": ".py",
   "mimetype": "text/x-python",
   "name": "python",
   "nbconvert_exporter": "python",
   "pygments_lexer": "ipython3",
   "version": "3.7.2"
  }
 },
 "nbformat": 4,
 "nbformat_minor": 2
}
