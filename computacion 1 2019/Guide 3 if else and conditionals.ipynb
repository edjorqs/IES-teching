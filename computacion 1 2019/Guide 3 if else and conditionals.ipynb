{
 "cells": [
  {
   "cell_type": "markdown",
   "metadata": {},
   "source": [
    "Guía 3: if else y condicionales\n",
    "\n",
    "Ingeniería en Estadística, Universidad de Valparaíso\n",
    "\n",
    "Profesor: Eduardo Jorquera - eduardo.jorquera@postgrado.uv.cl"
   ]
  },
  {
   "cell_type": "markdown",
   "metadata": {},
   "source": [
    "La utilidad de usar if else para tomar decisiones de manera automática da el poder de incorporar derivación de decisiones en un programa.\n",
    "Un programa es un conjunto de instrucciones dadas al computador, las instrucciones son dadas para completar una tarea, y dicha tarea necesita de la toma de decisiones. \n",
    "\n",
    "Entonces, declaraciones condicionales forman una parte integral de la programación. La sintaxis de la construcción es como sigue:\n",
    "\n",
    "**(Nota que ninguna de las siguientes celdas explicativas es compilada, porque lo que está entre los símbolos <  > carece de la sintaxis correcta de Python)**"
   ]
  },
  {
   "cell_type": "markdown",
   "metadata": {},
   "source": [
    "if"
   ]
  },
  {
   "cell_type": "code",
   "execution_count": null,
   "metadata": {},
   "outputs": [],
   "source": [
    "if (<condición>):\n",
    "    <instrucción si la condición es verxadera>"
   ]
  },
  {
   "cell_type": "markdown",
   "metadata": {},
   "source": [
    "if-else"
   ]
  },
  {
   "cell_type": "code",
   "execution_count": null,
   "metadata": {},
   "outputs": [],
   "source": [
    "if (<condición>):\n",
    "    <instrucción si la condición es verdadera>\n",
    "else:\n",
    "    <instrucción si la condición no es verdadera>"
   ]
  },
  {
   "cell_type": "markdown",
   "metadata": {},
   "source": [
    "menú usando if else"
   ]
  },
  {
   "cell_type": "code",
   "execution_count": null,
   "metadata": {},
   "outputs": [],
   "source": [
    "if (<condición 1>):\n",
    "    <instrucción si la condición 1 es verdadera>\n",
    "elif (<condición 2>):\n",
    "    <instrucción si la condición 2 es verdadera>\n",
    "elif (<condición 3>):\n",
    "    <instrucción si la condición 3 es verdadera>\n",
    "else:\n",
    "    <instrucción si ninguna de las condiciones anteriores es verdadera>"
   ]
  },
  {
   "cell_type": "markdown",
   "metadata": {},
   "source": [
    "Ejemplo:\n",
    "\n",
    "Encontrar el mayor de tres números ingresados por el usuario"
   ]
  },
  {
   "cell_type": "code",
   "execution_count": null,
   "metadata": {},
   "outputs": [],
   "source": [
    "num1= input(\"Ingrese el primer número\\t: \")\n",
    "num2= input(\"Ingrese el segundo número\\t: \")\n",
    "num3= input(\"Ingrese el tercer número\\t: \")\n",
    "\n",
    "if (num1>num2):\n",
    "    if (num1>num3):\n",
    "        grande=num1\n",
    "    else:\n",
    "        grande=num2\n",
    "\n",
    "else:\n",
    "    if (num2>num3):\n",
    "        grande=num2\n",
    "    else:\n",
    "        grande=num3\n",
    "        \n",
    "print(grande)"
   ]
  },
  {
   "cell_type": "markdown",
   "metadata": {},
   "source": [
    "Si hay múltiples condiciones las cuales pueden determinar las salidas, entonces if-elif-else puede ser usado. Es útil, si por ejemplo se necesita construir un menú. Por ejemplo:"
   ]
  },
  {
   "cell_type": "code",
   "execution_count": null,
   "metadata": {},
   "outputs": [],
   "source": [
    "num = input(\"Ingrese un número entero entre 1 y 3\\t :\")\n",
    "if (int(num)==1):\n",
    "    print(\"Elegiste la opción 1\")\n",
    "elif (int(num)==2):\n",
    "    print(\"Elegiste la opción 2\")\n",
    "elif (int(num)==3):\n",
    "    print(\"Elegiste la opción 3\")\n",
    "else:\n",
    "    print(\"Ingresaste una opción incorrecta :c\")"
   ]
  },
  {
   "cell_type": "markdown",
   "metadata": {},
   "source": [
    "¿Te fijaste que para ver si un número es igual a otro, hay que usar \"==\"?\n",
    "\n",
    "En Python, hay distintos operadores lógicos que pueden ayudarte a realizar tu código. Los básicos son\n",
    "\n",
    "* mayor que: **>**, \n",
    "* menor que **>**, \n",
    "* mayor o igual que: **>=**\n",
    "* menor o igual que: **<=**\n",
    "* ó: **||**\n",
    "* y: **&**"
   ]
  },
  {
   "cell_type": "markdown",
   "metadata": {},
   "source": [
    "Es decir, para ver si un número es mayor que otros dos, es suficiente con usar adecuadamente los operadores lógicos:"
   ]
  },
  {
   "cell_type": "code",
   "execution_count": null,
   "metadata": {},
   "outputs": [],
   "source": [
    "n1=input(\"numero 1\\t: \")\n",
    "n2=input(\"numero 2\\t: \")\n",
    "n3=input(\"numero 3\\t: \")\n",
    "\n",
    "if ((int(n1)>int(n2)) & (int(n1)>int(n3))):\n",
    "    print(\"el número\", n1, \"es el mayor\")\n",
    "elif ((int(n2)>int(n1)) & (int(n2)>int(n3))):\n",
    "    print(\"el número\", n2, \"es el mayor\")\n",
    "else:\n",
    "    print(\"el número\", n3, \"es el mayor\")"
   ]
  },
  {
   "cell_type": "markdown",
   "metadata": {},
   "source": [
    "Fíjate bien en los paréntesis, deben ser minuciosamente usados"
   ]
  },
  {
   "cell_type": "markdown",
   "metadata": {},
   "source": [
    "# Tarea\n",
    "\n",
    "Pregunte al usuario para ingresar un número de tres dígitos. llámelo 'num'. Encuentre el nuevo número obtenido al poner los dígitos en reverso. Encuentre la suma de los dígitos dado el número que se obtuvo al invertir los dígitos. Finalmente, encuentre si cualquier dígito en la suma obtenida es igual a algún número del original, especificando el dígito del número original."
   ]
  },
  {
   "cell_type": "code",
   "execution_count": null,
   "metadata": {},
   "outputs": [],
   "source": []
  }
 ],
 "metadata": {
  "kernelspec": {
   "display_name": "Python 3",
   "language": "python",
   "name": "python3"
  },
  "language_info": {
   "codemirror_mode": {
    "name": "ipython",
    "version": 3
   },
   "file_extension": ".py",
   "mimetype": "text/x-python",
   "name": "python",
   "nbconvert_exporter": "python",
   "pygments_lexer": "ipython3",
   "version": "3.7.2"
  }
 },
 "nbformat": 4,
 "nbformat_minor": 2
}
