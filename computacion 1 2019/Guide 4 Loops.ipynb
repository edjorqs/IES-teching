{
 "cells": [
  {
   "cell_type": "markdown",
   "metadata": {},
   "source": [
    "Guía 4: Ciclos\n",
    "\n",
    "Ingeniería en Estadística, Universidad de Valparaíso\n",
    "\n",
    "Profesor: Eduardo Jorquera - eduardo.jorquera@postgrado.uv.cl"
   ]
  },
  {
   "cell_type": "markdown",
   "metadata": {},
   "source": [
    "Los ciclos son muy importantes para la programación estadística, y así básicos para la programación en general. Son usados para construir una tarea repetitiva una y otra vez. La tarea es repetida hasta que una condición se mantenga como cierta, después de lo cual el ciclo  termine y si la salida ocurre sin un `break`, entonces la parte del `else` se ejecuta. La sintaxis de los ciclos es como sigue:"
   ]
  },
  {
   "cell_type": "code",
   "execution_count": null,
   "metadata": {},
   "outputs": [],
   "source": [
    "while (declaración):\n",
    "    ...\n",
    "    Aquí van las instrucciones\n",
    "    ...\n",
    "else:\n",
    "    ...\n",
    "    Aquí hay más instrucciones\n",
    "    ..."
   ]
  },
  {
   "cell_type": "markdown",
   "metadata": {},
   "source": [
    "La tabulación (ó indentación) al inicio de la línea indica que allí están las instrucciones correspondientes al ciclo. Por esta razón, es de suma importancia que las uses cuidadosamente. También, la parte del `else` es un agregado que sólo Python tiene.\n",
    "\n",
    "Ahora te mostraré un simple ejemplo de cómo puedes usarlo:"
   ]
  },
  {
   "cell_type": "code",
   "execution_count": 2,
   "metadata": {},
   "outputs": [
    {
     "name": "stdout",
     "output_type": "stream",
     "text": [
      "1 \n",
      "\n",
      "2 \n",
      "\n",
      "3 \n",
      "\n",
      "4 \n",
      "\n",
      "5 \n",
      "\n",
      "6 \n",
      "\n",
      "7 \n",
      "\n",
      "8 \n",
      "\n",
      "9 \n",
      "\n",
      "No hay mas eses uwu\n"
     ]
    }
   ],
   "source": [
    "s=1\n",
    "while (s<10):\n",
    "    print(s,\"\\n\")\n",
    "    s=s+1\n",
    "else:\n",
    "    print(\"No hay mas eses uwu\")"
   ]
  },
  {
   "cell_type": "markdown",
   "metadata": {},
   "source": [
    "# Actividad:\n",
    "\n",
    "Haga un programa que muestre un número (ingresado por el usuario) y su factorial usando un ciclo while para la multiplicación:"
   ]
  },
  {
   "cell_type": "code",
   "execution_count": null,
   "metadata": {},
   "outputs": [],
   "source": []
  },
  {
   "cell_type": "markdown",
   "metadata": {},
   "source": [
    "# Actividad:\n",
    "\n",
    "Haga un programa que muestre un número (ingresado por el usuario) y su potencia usando un ciclo while para la multiplicación del número por sí mismo:"
   ]
  },
  {
   "cell_type": "code",
   "execution_count": null,
   "metadata": {},
   "outputs": [],
   "source": []
  },
  {
   "cell_type": "markdown",
   "metadata": {},
   "source": [
    "Para eso son los ciclos `while`. Pero si queremos obviar la creación de una variable que recorra cada número, podemos usar los ciclos `for`, donde una variable recorre todo un \"dominio\" de valores, como en el siguiente ejemplo.\n",
    "\n",
    "Qué elementos contiene range? Recuerdas cómo acceder individualmente a cada uno de ellos?"
   ]
  },
  {
   "cell_type": "code",
   "execution_count": 11,
   "metadata": {},
   "outputs": [
    {
     "name": "stdout",
     "output_type": "stream",
     "text": [
      "0\n",
      "1\n",
      "2\n",
      "3\n",
      "4\n"
     ]
    }
   ],
   "source": [
    "for i in range(5):\n",
    "    print(i)"
   ]
  },
  {
   "cell_type": "markdown",
   "metadata": {},
   "source": [
    "En general, los ciclos `for` sirven no sólo para trabajar con números, sino que para cualquier colección de elementos; mira cómo puede servir con una lista de frutas:"
   ]
  },
  {
   "cell_type": "code",
   "execution_count": 12,
   "metadata": {},
   "outputs": [
    {
     "name": "stdout",
     "output_type": "stream",
     "text": [
      "fruta actual : plátano\n",
      "fruta actual : manzana\n",
      "fruta actual : mango\n"
     ]
    }
   ],
   "source": [
    "fruits = ['plátano', 'manzana',  'mango']\n",
    "for index in range(len(fruits)):\n",
    "    print('fruta actual :', fruits[index])"
   ]
  },
  {
   "cell_type": "markdown",
   "metadata": {},
   "source": [
    "También puedo poner un ciclo for dentro de otro ciclo for, por ejemplo si quiero mostrar una matriz, puedo hacer lo siguiente:"
   ]
  },
  {
   "cell_type": "code",
   "execution_count": 26,
   "metadata": {},
   "outputs": [
    {
     "name": "stdout",
     "output_type": "stream",
     "text": [
      "1 2 3 \n",
      "4 5 6 \n",
      "7 8 9 \n"
     ]
    }
   ],
   "source": [
    "nums=range(1,10)\n",
    "k=0\n",
    "for i in range(3):\n",
    "    for j in range(3):\n",
    "        print(nums[k], end=\" \")\n",
    "        k=k+1\n",
    "    print()"
   ]
  },
  {
   "cell_type": "markdown",
   "metadata": {},
   "source": [
    "# Tarea\n",
    "En los siguientes ejercicios use los ciclos `for`.\n",
    "\n",
    "**1.** Escriba un programa para generar los siguientes patrones en Python, donde la cantidad de filas las indica el usuario:"
   ]
  },
  {
   "cell_type": "code",
   "execution_count": null,
   "metadata": {},
   "outputs": [],
   "source": [
    "*\n",
    "* *\n",
    "* * *\n",
    "* * * *"
   ]
  },
  {
   "cell_type": "code",
   "execution_count": null,
   "metadata": {},
   "outputs": [],
   "source": [
    "1\n",
    "2 2\n",
    "3 3 3\n",
    "4 4 4 4"
   ]
  },
  {
   "cell_type": "code",
   "execution_count": null,
   "metadata": {},
   "outputs": [],
   "source": [
    "2\n",
    "2 3\n",
    "2 3 4\n",
    "2 3 4 5\n",
    "2 3 4 5 6"
   ]
  },
  {
   "cell_type": "code",
   "execution_count": null,
   "metadata": {},
   "outputs": [],
   "source": [
    "1\n",
    "2 3\n",
    "4 5 6\n",
    "7 8 9 10"
   ]
  },
  {
   "cell_type": "markdown",
   "metadata": {},
   "source": [
    "**2.** Pregunte al usuario por un número entero y encuentre qué número menor o igual a este es primo usando un ciclo `for`.\n",
    "\n",
    "**3.** A la pregunta anterior, indique cuáles son los factores de tal número.\n",
    "\n",
    "**4.** Pregunte al usuario para que ingrese dos números y encuentre el mínimo común múltiplo (MCM) entre ellos.\n",
    "Por ejemplo, si los números ingresados son 30 y 20, el MCM entre ellos es 60.\n",
    "\n",
    "**5.** Pregunte al usuario por dos números y halle el factor común más grande.\n",
    "Por ejemplo, si los números son 30 y 20, el factor común más grande es 10.\n",
    "\n",
    "**6.** Halle la media y la varianza de una lista de $n$ números ingresados por el usuario.\n",
    "\n",
    "**7.** Pregunte al usuario por los valores de $a$ y $b$ y encuentre $a^{ba}$."
   ]
  }
 ],
 "metadata": {
  "kernelspec": {
   "display_name": "Python 3",
   "language": "python",
   "name": "python3"
  },
  "language_info": {
   "codemirror_mode": {
    "name": "ipython",
    "version": 3
   },
   "file_extension": ".py",
   "mimetype": "text/x-python",
   "name": "python",
   "nbconvert_exporter": "python",
   "pygments_lexer": "ipython3",
   "version": "3.7.3"
  }
 },
 "nbformat": 4,
 "nbformat_minor": 2
}
