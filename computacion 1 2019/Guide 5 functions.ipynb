{
 "cells": [
  {
   "cell_type": "markdown",
   "metadata": {},
   "source": [
    "Guía 4: Ciclos\n",
    "\n",
    "Ingeniería en Estadística, Universidad de Valparaíso\n",
    "\n",
    "Profesor: Eduardo Jorquera - eduardo.jorquera@postgrado.uv.cl"
   ]
  },
  {
   "cell_type": "markdown",
   "metadata": {},
   "source": [
    "# Nociones básicas\n",
    "\n",
    "Si tienes que realizar una tarea de código mayor en tamaño y complejidad, es posible que dividiendo esta gran tarea en otras más pequeñas y más simples el código sea más sencillo de escribir.\n",
    "Las unidades de los programas, que pueden ser llamados como base, toman un \"input\" que luego es procesado, y luego puede generar un \"output\" el cual puede ser llamado como **función**.\n",
    "\n",
    "Esto es útil al tratarse por ejemplo de programación modular, la cual consiste en dividir el programa en pequeñas partes. Esto evita que la persona que crea el programa reescriba reiteradas veces  el mismo código una y otra vez, lo cual puede reducir el largo del programa.\n",
    "\n",
    "El nombre de una función puede ser cualquier cadena de caracteres alfanumérica, así mismo como cuando se trata de ponerle nombre a una variable u objeto.\n",
    "\n",
    "Las funciones tienen argumentos, los cuales denotan o que se ingresa a la función; es decir, el \"input\" de la función. En la literatura también se conoce como parámetros de la función, pero esto último puede enredar el lenguaje estadístico al que seguramente estarás ya acostumbrado, entonces por comodidad mejor llamarle argumento.\n",
    "\n",
    "El valor de reotrno de una función puede o no existir de manera explícita. Si el valor es explícito, éste será el valor que será el resultado en la función. De lo contrario, un objeto vacío será el \"output\" de la función.\n",
    "\n",
    "La sintaxis básica para crear una función es la siguiente:"
   ]
  },
  {
   "cell_type": "code",
   "execution_count": null,
   "metadata": {},
   "outputs": [],
   "source": [
    "def <nombre de la función>(<lista de parámetros>):\n",
    "    <cuerpo de la función>\n",
    "    return <el \"output\" de la función>"
   ]
  },
  {
   "cell_type": "markdown",
   "metadata": {},
   "source": [
    "# Funcionamiento\n",
    "\n",
    "Considere una función que mutiplica dos números pasados como argumentos:"
   ]
  },
  {
   "cell_type": "code",
   "execution_count": 1,
   "metadata": {},
   "outputs": [
    {
     "name": "stdout",
     "output_type": "stream",
     "text": [
      "el producto de 2 * 4 es 8\n"
     ]
    }
   ],
   "source": [
    "def producto(num1,num2):\n",
    "    prod=num1*num2\n",
    "    print(\"el producto de\", num1, \"*\", num2,\"es\", prod)\n",
    "producto(2,4)"
   ]
  },
  {
   "cell_type": "markdown",
   "metadata": {},
   "source": [
    "Así también, se puede usar return para explicitar el resultado de la función"
   ]
  },
  {
   "cell_type": "code",
   "execution_count": 2,
   "metadata": {},
   "outputs": [
    {
     "data": {
      "text/plain": [
       "'el producto de 2 * 4 es 8'"
      ]
     },
     "execution_count": 2,
     "metadata": {},
     "output_type": "execute_result"
    }
   ],
   "source": [
    "def producto(num1,num2):\n",
    "    prod=num1*num2\n",
    "    return str(\"el producto de \")+str(num1)+\" * \"+str(num2)+\" es \"+str(prod)\n",
    "producto(2,4)"
   ]
  },
  {
   "cell_type": "markdown",
   "metadata": {},
   "source": [
    "O aún mucho más simple, una función puede no tener un objeto de retorno:"
   ]
  },
  {
   "cell_type": "code",
   "execution_count": 3,
   "metadata": {},
   "outputs": [
    {
     "name": "stdout",
     "output_type": "stream",
     "text": [
      "hola\n"
     ]
    }
   ],
   "source": [
    "def hola():\n",
    "    print(\"hola\")\n",
    "hola()"
   ]
  },
  {
   "cell_type": "markdown",
   "metadata": {},
   "source": [
    "Y así puedes jugar con varias cosas..."
   ]
  },
  {
   "cell_type": "code",
   "execution_count": 4,
   "metadata": {},
   "outputs": [
    {
     "name": "stdout",
     "output_type": "stream",
     "text": [
      " _____\n",
      "< moo >\n",
      " -----\n",
      "        \\   ^__^\n",
      "         \\  (oo)\\_______\n",
      "            (__)\\       )\\/\\ \n",
      "                ||----w |\n",
      "                ||     ||\n"
     ]
    }
   ],
   "source": [
    "def cowsay(cdc): #cdc: cadena de caracteres\n",
    "    print(\"\",\"_\" * (len(cdc)+2))\n",
    "    print(\"< \"+cdc+\" >\")\n",
    "    print(\"\",\"-\" * (len(cdc)+2))\n",
    "    print(\"        \\   ^__^\")\n",
    "    print(\"         \\  (oo)\\_______\")\n",
    "    print(\"            (__)\\       )\\/\\ \")\n",
    "    print(\"                ||----w |\")\n",
    "    print(\"                ||     ||\")\n",
    "cowsay(\"moo\")"
   ]
  },
  {
   "cell_type": "markdown",
   "metadata": {},
   "source": [
    "# Actividad\n",
    "\n",
    "Dada una lista, es posible crear una función que busque un elemento en una lista. Por ejemplo, si ingreso la lista `[1,2,3,4,5,6]` y el valor `4`, es deseable que muestre la posición 3 (recordando que las posiciones son contadas desde el `0`.\n",
    "\n",
    "Arregle el siguiente código para que muestre la posición de lo encontrado contando a partir del `0`."
   ]
  },
  {
   "cell_type": "code",
   "execution_count": 5,
   "metadata": {},
   "outputs": [
    {
     "name": "stdout",
     "output_type": "stream",
     "text": [
      "posición 5\n"
     ]
    }
   ],
   "source": [
    "def buscar(L,item):\n",
    "    bandera=0\n",
    "    for i in L:\n",
    "        if i==item:\n",
    "            bandera=1\n",
    "            print(\"posición\", i)\n",
    "    if bandera ==0:\n",
    "        print(\"no encontrado\")\n",
    "L=[1,2,5,9,10]\n",
    "buscar(L,5)"
   ]
  },
  {
   "cell_type": "markdown",
   "metadata": {},
   "source": [
    "# Tarea\n",
    "\n",
    "**1.** Escriba una función que calcule la media de $n$ números ingresados por el usuario.\n",
    "\n",
    "**2.** Escriba una función que calcule la moda de $n$ números ingresados por el usuario.\n",
    "\n",
    "**3.** Escriba una función que calcule la mediana de $n$ números ingresados por el usuario.\n",
    "\n",
    "**4.** Escriba una función que calcule la desviación estándar de $n$ números ingresados por el usuario.\n",
    "\n",
    "**5.** Escriba una función que encuentre el máximo de una lista de números ingresada por el usuario.\n",
    "\n",
    "**6.** Escriba una función que encuentre el mínimo de una lista de números ingresada por el usuario."
   ]
  }
 ],
 "metadata": {
  "kernelspec": {
   "display_name": "Python 3",
   "language": "python",
   "name": "python3"
  },
  "language_info": {
   "codemirror_mode": {
    "name": "ipython",
    "version": 3
   },
   "file_extension": ".py",
   "mimetype": "text/x-python",
   "name": "python",
   "nbconvert_exporter": "python",
   "pygments_lexer": "ipython3",
   "version": "3.7.3"
  }
 },
 "nbformat": 4,
 "nbformat_minor": 2
}
