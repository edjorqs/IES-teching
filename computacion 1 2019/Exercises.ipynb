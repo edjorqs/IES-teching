{
 "cells": [
  {
   "cell_type": "markdown",
   "metadata": {},
   "source": [
    "Ejercicios\n",
    "\n",
    "Ingeniería en Estadística, Universidad de Valparaíso\n",
    "\n",
    "Profesor: Eduardo Jorquera - eduardo.jorquera@postgrado.uv.cl"
   ]
  },
  {
   "cell_type": "markdown",
   "metadata": {},
   "source": [
    "1. Cómo crear una serie desde una lista?\n",
    "2. Cómo convertir la indexación de una serie en una columna de un nuevo dataframe?\n",
    "3. Cómo combinar varias series para crear un dataframe?\n",
    "4. Cómo obtener los items de una serie A que no están en otra serie B?\n",
    "5. Cómo obtener los items que no tienen en común una serie A con otra serie B?\n",
    "6. Cómo obtener todos los cuartiles, máximo y mínimo de una serie numérica?\n",
    "7. Cómo obtener la frecuencia de items únicos en una serie?\n",
    "8. Cómo mantener solamente los dos valores más frecuentes y reemplazar todo lo demás con `\"otro\"`?\n",
    "9. Cómo encontrar las posiciones de los números que son múltiples de 3 de una serie?\n",
    "10. Cómo extraer items de una posición dada de una serie?\n",
    "11. Cómo obtener las posiciones de los ítems de una serie A que están en otra serie B?\n",
    "12. Cómo calcular la cantidad de caracteres en cada palabra en una serie?\n",
    "13. Cómo reemplazar los espacios vacíos en una cadena de caracteres con el caracter menos frecuente?\n",
    "14. Cómo cambiar el orden de las columnas de un dataframe?"
   ]
  }
 ],
 "metadata": {
  "kernelspec": {
   "display_name": "Python 3",
   "language": "python3",
   "name": "python3"
  },
  "language_info": {
   "codemirror_mode": {
    "name": "ipython",
    "version": 3
   },
   "file_extension": ".py",
   "mimetype": "text/x-python",
   "name": "python",
   "nbconvert_exporter": "python",
   "pygments_lexer": "ipython3",
   "version": "3.6.5"
  }
 },
 "nbformat": 4,
 "nbformat_minor": 2
}
