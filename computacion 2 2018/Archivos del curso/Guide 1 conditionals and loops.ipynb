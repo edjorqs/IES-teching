{
 "cells": [
  {
   "cell_type": "markdown",
   "metadata": {},
   "source": [
    "# Computación II - 2018\n",
    "**Guía No. 2: Condicionales y ciclos en Python**  \n",
    "Ingeniería en Estadística - Universidad de Valparaíso  \n",
    "*Profesor: Eduardo Jorquera - eduardo.jorquera@postgrado.uv.cl*"
   ]
  },
  {
   "cell_type": "markdown",
   "metadata": {},
   "source": [
    "### Condicionales"
   ]
  },
  {
   "cell_type": "markdown",
   "metadata": {},
   "source": [
    "La sintaxis básica de los if y else en Python tiene la siguiente estructura:\n",
    "\n",
    "if expression:\n",
    "   statement(s)\n",
    "\n",
    "else:\n",
    "   statement(s)"
   ]
  },
  {
   "cell_type": "markdown",
   "metadata": {},
   "source": [
    "Un ejemplo sencillo es el siguiente"
   ]
  },
  {
   "cell_type": "code",
   "execution_count": 3,
   "metadata": {},
   "outputs": [
    {
     "name": "stdout",
     "output_type": "stream",
     "text": [
      "a es menor o igual que 2, porque a =  2\n"
     ]
    }
   ],
   "source": [
    "a=2\n",
    "if a>2:\n",
    "    print(\"a es mayor que 2, porque a = \", a)\n",
    "else:\n",
    "    print(\"a es menor o igual que 2, porque a = \", a)"
   ]
  },
  {
   "cell_type": "markdown",
   "metadata": {},
   "source": [
    "* Qué hace el siguiente código? en particular qué hace la línea No. 2?"
   ]
  },
  {
   "cell_type": "code",
   "execution_count": 4,
   "metadata": {},
   "outputs": [
    {
     "name": "stdout",
     "output_type": "stream",
     "text": [
      "a: 0.6479006854610555\n",
      "result:0\n"
     ]
    }
   ],
   "source": [
    "import numpy as np\n",
    "a = np.random.random_sample() #Qué hace esta línea?\n",
    "print (\"a: \" + str(a))\n",
    "if a<0.5:\n",
    "    result=1\n",
    "else:\n",
    "    result=0\n",
    "print (\"result:\"+str(result))"
   ]
  },
  {
   "cell_type": "markdown",
   "metadata": {},
   "source": [
    "* Modifique el código anterior para que se ejecute 10 veces usando un *for*, no se preocupe por guardar el resultado. Escriba el código modificado bajo este párrafo:"
   ]
  },
  {
   "cell_type": "code",
   "execution_count": null,
   "metadata": {},
   "outputs": [],
   "source": []
  },
  {
   "cell_type": "markdown",
   "metadata": {},
   "source": [
    "Otra forma de hacer el problema anterior es el siguiente, describa qué elementos nuevos aparecen en este código? (ej. np.random.rand, np.where) qué hace cada uno de ellos?"
   ]
  },
  {
   "cell_type": "code",
   "execution_count": 1,
   "metadata": {},
   "outputs": [
    {
     "name": "stdout",
     "output_type": "stream",
     "text": [
      "a: \n",
      "[[0.44784672 0.87537097 0.18479674 0.38373104 0.49595293 0.95969931\n",
      "  0.45123738 0.92915686 0.50981046 0.86915955]]\n",
      "result: \n",
      "[[0 1 0 0 0 1 0 1 1 1]]\n"
     ]
    }
   ],
   "source": [
    "import numpy as np\n",
    "a = (np.random.rand(1,10)) #create a random (1,10) array\n",
    "print (\"a: \\n\" + str(a))\n",
    "result = (np.where(a>0.5,1,0)) \n",
    "print (\"result: \\n\" +str(result))"
   ]
  },
  {
   "cell_type": "markdown",
   "metadata": {},
   "source": [
    "---"
   ]
  },
  {
   "cell_type": "markdown",
   "metadata": {},
   "source": [
    "Los ciclos no solo pueden funcionar en arreglos de números, también de conjuntos:"
   ]
  },
  {
   "cell_type": "code",
   "execution_count": 7,
   "metadata": {},
   "outputs": [
    {
     "name": "stdout",
     "output_type": "stream",
     "text": [
      "cat\n",
      "dog\n",
      "monkey\n"
     ]
    }
   ],
   "source": [
    "animals = ['cat', 'dog', 'monkey']\n",
    "for animal in animals:\n",
    "    print(animal)"
   ]
  },
  {
   "cell_type": "markdown",
   "metadata": {},
   "source": [
    "Modifique el código anterior para incluir la longitud de la cadena de caracteres para cada animal, es decir debe imprimir \"cat : 3\". Incluya el código en la siguiente celda:"
   ]
  },
  {
   "cell_type": "code",
   "execution_count": null,
   "metadata": {},
   "outputs": [],
   "source": []
  },
  {
   "cell_type": "markdown",
   "metadata": {},
   "source": [
    "* Combinemos ahora *for* e *if*, qué hace el siguiente código?"
   ]
  },
  {
   "cell_type": "code",
   "execution_count": 3,
   "metadata": {},
   "outputs": [
    {
     "name": "stdout",
     "output_type": "stream",
     "text": [
      "{0: 0, 2: 4, 4: 16}\n"
     ]
    }
   ],
   "source": [
    "nums = [0, 1, 2, 3, 4]\n",
    "even_num_to_square = {x: x ** 2 for x in nums if x % 2 == 0}\n",
    "print(even_num_to_square) "
   ]
  },
  {
   "cell_type": "markdown",
   "metadata": {},
   "source": [
    "Modifique el código anterior para que ahora nums sea un arreglo de números entre 1 y 100 y además la lista incluya el logaritmo natural para cada uno de los valores en nums. Incluya el código modificado a continuación:"
   ]
  },
  {
   "cell_type": "code",
   "execution_count": null,
   "metadata": {},
   "outputs": [],
   "source": []
  },
  {
   "cell_type": "markdown",
   "metadata": {},
   "source": [
    "---"
   ]
  },
  {
   "cell_type": "markdown",
   "metadata": {},
   "source": [
    "Los ciclos *while* pueden ser útiles para iterar un evento hasta que cierta condición suceda; funciona de la siguiente forma:"
   ]
  },
  {
   "cell_type": "code",
   "execution_count": 22,
   "metadata": {},
   "outputs": [
    {
     "name": "stdout",
     "output_type": "stream",
     "text": [
      "1\n",
      "2\n",
      "3\n"
     ]
    }
   ],
   "source": [
    "i = 1\n",
    "\n",
    "while True:\n",
    "    print(i)\n",
    "    i = i + 1\n",
    "    if(i > 3):\n",
    "        break"
   ]
  },
  {
   "cell_type": "markdown",
   "metadata": {},
   "source": [
    "Existe una función para generar números aleatorios entre 0 y 1, dentro de al librería numpy, donde el argumento determina el largo del vector creado. Ésta es la siguiente:"
   ]
  },
  {
   "cell_type": "code",
   "execution_count": 23,
   "metadata": {},
   "outputs": [
    {
     "data": {
      "text/plain": [
       "array([0.94851006, 0.59629726, 0.20316919, 0.05352698, 0.04322013])"
      ]
     },
     "execution_count": 23,
     "metadata": {},
     "output_type": "execute_result"
    }
   ],
   "source": [
    "import numpy as np\n",
    "np.random.rand(5)"
   ]
  },
  {
   "cell_type": "markdown",
   "metadata": {},
   "source": [
    "#### Actividad\n",
    "\n",
    "\n",
    "* Haga un ciclo que sirva para generar números aleatorios entre $0$ y $1$ (uno tras otro). Deténgase hasta que se genere el valor $0.99$, guarde cada uno de los resultados en en un vector\n",
    "* Haga un gráfico de los valores generados anteriormente."
   ]
  },
  {
   "cell_type": "markdown",
   "metadata": {},
   "source": [
    "---"
   ]
  },
  {
   "cell_type": "markdown",
   "metadata": {},
   "source": [
    "Las funciones en python pueden definirse de la siguiente manera, entregando dentro del primer paréntesis los argumentos que se utilizarán. Una función tiene la siguiente estructura básica:"
   ]
  },
  {
   "cell_type": "code",
   "execution_count": 30,
   "metadata": {},
   "outputs": [
    {
     "name": "stdout",
     "output_type": "stream",
     "text": [
      "La suma es:  7\n"
     ]
    }
   ],
   "source": [
    "def suma(a,b):\n",
    "    print(\"La suma es: \",a+b)\n",
    "    \n",
    "suma(5,2)"
   ]
  },
  {
   "cell_type": "markdown",
   "metadata": {},
   "source": [
    "#### Actividad\n",
    "\n",
    "\n",
    "* Genere 1.000 números aleatorios, grafique la razón entre uno y la suma de todos los valores anteriores."
   ]
  },
  {
   "cell_type": "markdown",
   "metadata": {},
   "source": [
    "#### TAREA (se revisará al principio de la siguiente clase)\n",
    "\n",
    "\n",
    "* Usando la librería numpy, genere $10.000$ valores aleatorios $x$ entre $0$ y $1$, imprima los valores de $y=\\log_{10}(x)$, que cumplan $y>\\frac{1}{2}$, guarde los valores que cumplen la condición en un vector (use un ciclo for).\n",
    "* Haga un gráfico de la función en estos valores guardados anteriormente.\n",
    "* Genere un código para esta tarea en Python y otro en R."
   ]
  },
  {
   "cell_type": "code",
   "execution_count": null,
   "metadata": {},
   "outputs": [],
   "source": []
  }
 ],
 "metadata": {
  "kernelspec": {
   "display_name": "Python 3",
   "language": "python",
   "name": "python3"
  },
  "language_info": {
   "codemirror_mode": {
    "name": "ipython",
    "version": 3
   },
   "file_extension": ".py",
   "mimetype": "text/x-python",
   "name": "python",
   "nbconvert_exporter": "python",
   "pygments_lexer": "ipython3",
   "version": "3.6.5"
  },
  "latex_envs": {
   "LaTeX_envs_menu_present": true,
   "autoclose": false,
   "autocomplete": true,
   "bibliofile": "biblio.bib",
   "cite_by": "apalike",
   "current_citInitial": 1,
   "eqLabelWithNumbers": true,
   "eqNumInitial": 1,
   "hotkeys": {
    "equation": "Ctrl-E",
    "itemize": "Ctrl-I"
   },
   "labels_anchors": false,
   "latex_user_defs": false,
   "report_style_numbering": false,
   "user_envs_cfg": false
  },
  "toc": {
   "base_numbering": 1,
   "nav_menu": {},
   "number_sections": true,
   "sideBar": true,
   "skip_h1_title": false,
   "title_cell": "Table of Contents",
   "title_sidebar": "Contents",
   "toc_cell": false,
   "toc_position": {},
   "toc_section_display": true,
   "toc_window_display": false
  },
  "varInspector": {
   "cols": {
    "lenName": 16,
    "lenType": 16,
    "lenVar": 40
   },
   "kernels_config": {
    "python": {
     "delete_cmd_postfix": "",
     "delete_cmd_prefix": "del ",
     "library": "var_list.py",
     "varRefreshCmd": "print(var_dic_list())"
    },
    "r": {
     "delete_cmd_postfix": ") ",
     "delete_cmd_prefix": "rm(",
     "library": "var_list.r",
     "varRefreshCmd": "cat(var_dic_list()) "
    }
   },
   "types_to_exclude": [
    "module",
    "function",
    "builtin_function_or_method",
    "instance",
    "_Feature"
   ],
   "window_display": false
  }
 },
 "nbformat": 4,
 "nbformat_minor": 2
}
