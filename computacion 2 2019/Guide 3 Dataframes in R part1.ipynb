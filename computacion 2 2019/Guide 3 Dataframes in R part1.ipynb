{
 "cells": [
  {
   "cell_type": "markdown",
   "metadata": {},
   "source": [
    "# Guía 2: Gráficos en R parte 1\n",
    "Computación 2, IES.\n",
    "Profesor: Eduardo Jorquera, eduardo.jorquera@postgrado.uv.cl\n",
    "\n",
    "## Manipulación de datos con R\n",
    "\n",
    "Uno de los pasos que más consume tiempo en cualquier análisis de datos es la limpieza de éstos para que queden en un formato que permita el análisis. \n",
    "\n",
    "Para esto, necesitarás los siguientes paquetes instalados:"
   ]
  },
  {
   "cell_type": "code",
   "execution_count": null,
   "metadata": {
    "collapsed": true
   },
   "outputs": [],
   "source": [
    "pkgs <- c('reshape2', 'plyr', 'ggplot2', 'dplyr', 'data.table', 'Lahman')\n",
    "install.packages(pkgs)"
   ]
  },
  {
   "cell_type": "markdown",
   "metadata": {},
   "source": [
    "## Datos ordenados\n",
    "\n",
    "Los datos crudos en el mundo real, están con frecuencia desordenados y cuentan con un formato bastante pobre. Más aún, pueden faltar detalles apropiados para el estudio que se quiere hacer. La corrección de estos datos puede transformarse en un ejercicio peligroso, ya que los datos originales serían sobre escritos y no habría froma de auditar este proceso o de reparar los errores cometidos al tomar/imputar los datos. Una buena práctica sería mantener los datos originales, y usar un código que los limpiara, arregle errores de imputación y guarde los datos limpios para futuros análisis. En esta sección aprenderás todo para ordenar los datos.\n",
    "\n",
    "* Pregunta: Considere los siguientes datos. Cuántas variabes contiene este conjunto de datos?\n",
    "\n",
    "| Hombres | mujeres |\n",
    "-----|-------|---------|\n",
    "Lesionado| 4     | 1       |\n",
    "No lesionado| 2     | 5       | \n",
    "\n",
    "\n",
    "### ¿Qué son los datos ordenados?\n",
    "\n",
    "Un conjunto de datos se dice que está ordenado si:\n",
    "* Las observaciones están en filas\n",
    "* Las variables están en columnas\n",
    "* Está contenido en un solo dataset\n",
    "\n",
    "### Explorando datos sucios\n",
    "\n",
    "Veamos un ejemplo de cuasas comunes de suciedad en los datos con algunos pocos datasets.\n",
    "\n",
    "\n",
    "#### Distribución de salario por religión\n",
    "\n",
    "Nuestro primer dataset está basado en una encuesta hecha por *Pew Research* que examina la relación entre el salario y la afiliación religiosa.\n",
    "\n",
    "Lee el dataset en R e inspecciona las primeras filas para ver si está todo ordenado:"
   ]
  },
  {
   "cell_type": "code",
   "execution_count": 31,
   "metadata": {},
   "outputs": [
    {
     "data": {
      "text/html": [
       "<table>\n",
       "<caption>A data.frame: 6 × 11</caption>\n",
       "<thead>\n",
       "\t<tr><th scope=col>religion</th><th scope=col>&lt;$10k</th><th scope=col>$10-20k</th><th scope=col>$20-30k</th><th scope=col>$30-40k</th><th scope=col>$40-50k</th><th scope=col>$50-75k</th><th scope=col>$75-100k</th><th scope=col>$100-150k</th><th scope=col>&gt;150k</th><th scope=col>Don't know/refused</th></tr>\n",
       "\t<tr><th scope=col>&lt;chr&gt;</th><th scope=col>&lt;int&gt;</th><th scope=col>&lt;int&gt;</th><th scope=col>&lt;int&gt;</th><th scope=col>&lt;int&gt;</th><th scope=col>&lt;int&gt;</th><th scope=col>&lt;int&gt;</th><th scope=col>&lt;int&gt;</th><th scope=col>&lt;int&gt;</th><th scope=col>&lt;int&gt;</th><th scope=col>&lt;int&gt;</th></tr>\n",
       "</thead>\n",
       "<tbody>\n",
       "\t<tr><td>Agnostic          </td><td> 27</td><td> 34</td><td>  60</td><td> 81</td><td> 76</td><td> 137</td><td>122</td><td>109</td><td> 84</td><td>  96</td></tr>\n",
       "\t<tr><td>Atheist           </td><td> 12</td><td> 27</td><td>  37</td><td> 52</td><td> 35</td><td>  70</td><td> 73</td><td> 59</td><td> 74</td><td>  76</td></tr>\n",
       "\t<tr><td>Buddhist          </td><td> 27</td><td> 21</td><td>  30</td><td> 34</td><td> 33</td><td>  58</td><td> 62</td><td> 39</td><td> 53</td><td>  54</td></tr>\n",
       "\t<tr><td>Catholic          </td><td>418</td><td>617</td><td> 732</td><td>670</td><td>638</td><td>1116</td><td>949</td><td>792</td><td>633</td><td>1489</td></tr>\n",
       "\t<tr><td>Don’t know/refused</td><td> 15</td><td> 14</td><td>  15</td><td> 11</td><td> 10</td><td>  35</td><td> 21</td><td> 17</td><td> 18</td><td> 116</td></tr>\n",
       "\t<tr><td>Evangelical Prot  </td><td>575</td><td>869</td><td>1064</td><td>982</td><td>881</td><td>1486</td><td>949</td><td>723</td><td>414</td><td>1529</td></tr>\n",
       "</tbody>\n",
       "</table>\n"
      ],
      "text/latex": [
       "A data.frame: 6 × 11\n",
       "\\begin{tabular}{r|lllllllllll}\n",
       " religion & <\\$10k & \\$10-20k & \\$20-30k & \\$30-40k & \\$40-50k & \\$50-75k & \\$75-100k & \\$100-150k & >150k & Don't know/refused\\\\\n",
       " <chr> & <int> & <int> & <int> & <int> & <int> & <int> & <int> & <int> & <int> & <int>\\\\\n",
       "\\hline\n",
       "\t Agnostic           &  27 &  34 &   60 &  81 &  76 &  137 & 122 & 109 &  84 &   96\\\\\n",
       "\t Atheist            &  12 &  27 &   37 &  52 &  35 &   70 &  73 &  59 &  74 &   76\\\\\n",
       "\t Buddhist           &  27 &  21 &   30 &  34 &  33 &   58 &  62 &  39 &  53 &   54\\\\\n",
       "\t Catholic           & 418 & 617 &  732 & 670 & 638 & 1116 & 949 & 792 & 633 & 1489\\\\\n",
       "\t Don’t know/refused &  15 &  14 &   15 &  11 &  10 &   35 &  21 &  17 &  18 &  116\\\\\n",
       "\t Evangelical Prot   & 575 & 869 & 1064 & 982 & 881 & 1486 & 949 & 723 & 414 & 1529\\\\\n",
       "\\end{tabular}\n"
      ],
      "text/markdown": [
       "\n",
       "A data.frame: 6 × 11\n",
       "\n",
       "| religion &lt;chr&gt; | &lt;$10k &lt;int&gt; | $10-20k &lt;int&gt; | $20-30k &lt;int&gt; | $30-40k &lt;int&gt; | $40-50k &lt;int&gt; | $50-75k &lt;int&gt; | $75-100k &lt;int&gt; | $100-150k &lt;int&gt; | &gt;150k &lt;int&gt; | Don't know/refused &lt;int&gt; |\n",
       "|---|---|---|---|---|---|---|---|---|---|---|\n",
       "| Agnostic           |  27 |  34 |   60 |  81 |  76 |  137 | 122 | 109 |  84 |   96 |\n",
       "| Atheist            |  12 |  27 |   37 |  52 |  35 |   70 |  73 |  59 |  74 |   76 |\n",
       "| Buddhist           |  27 |  21 |   30 |  34 |  33 |   58 |  62 |  39 |  53 |   54 |\n",
       "| Catholic           | 418 | 617 |  732 | 670 | 638 | 1116 | 949 | 792 | 633 | 1489 |\n",
       "| Don’t know/refused |  15 |  14 |   15 |  11 |  10 |   35 |  21 |  17 |  18 |  116 |\n",
       "| Evangelical Prot   | 575 | 869 | 1064 | 982 | 881 | 1486 | 949 | 723 | 414 | 1529 |\n",
       "\n"
      ],
      "text/plain": [
       "  religion           <$10k $10-20k $20-30k $30-40k $40-50k $50-75k $75-100k\n",
       "1 Agnostic            27    34       60     81      76      137    122     \n",
       "2 Atheist             12    27       37     52      35       70     73     \n",
       "3 Buddhist            27    21       30     34      33       58     62     \n",
       "4 Catholic           418   617      732    670     638     1116    949     \n",
       "5 Don’t know/refused  15    14       15     11      10       35     21     \n",
       "6 Evangelical Prot   575   869     1064    982     881     1486    949     \n",
       "  $100-150k >150k Don't know/refused\n",
       "1 109        84     96              \n",
       "2  59        74     76              \n",
       "3  39        53     54              \n",
       "4 792       633   1489              \n",
       "5  17        18    116              \n",
       "6 723       414   1529              "
      ]
     },
     "metadata": {},
     "output_type": "display_data"
    }
   ],
   "source": [
    "pew <- read.delim(\n",
    "  file = \"http://stat405.had.co.nz/data/pew.txt\",\n",
    "  header = TRUE,\n",
    "  stringsAsFactors = FALSE,\n",
    "  check.names = F\n",
    ")\n",
    "head(pew)\n",
    "write.table(pew,\"pew.txt\",sep=\",\",row.names=TRUE)"
   ]
  },
  {
   "cell_type": "markdown",
   "metadata": {},
   "source": [
    "#### Incidencia de tuberculosis"
   ]
  },
  {
   "cell_type": "code",
   "execution_count": 11,
   "metadata": {},
   "outputs": [
    {
     "data": {
      "text/html": [
       "<table>\n",
       "<caption>A data.frame: 6 × 23</caption>\n",
       "<thead>\n",
       "\t<tr><th scope=col>iso2</th><th scope=col>year</th><th scope=col>new_sp</th><th scope=col>new_sp_m04</th><th scope=col>new_sp_m514</th><th scope=col>new_sp_m014</th><th scope=col>new_sp_m1524</th><th scope=col>new_sp_m2534</th><th scope=col>new_sp_m3544</th><th scope=col>new_sp_m4554</th><th scope=col>⋯</th><th scope=col>new_sp_f04</th><th scope=col>new_sp_f514</th><th scope=col>new_sp_f014</th><th scope=col>new_sp_f1524</th><th scope=col>new_sp_f2534</th><th scope=col>new_sp_f3544</th><th scope=col>new_sp_f4554</th><th scope=col>new_sp_f5564</th><th scope=col>new_sp_f65</th><th scope=col>new_sp_fu</th></tr>\n",
       "\t<tr><th scope=col>&lt;chr&gt;</th><th scope=col>&lt;int&gt;</th><th scope=col>&lt;int&gt;</th><th scope=col>&lt;int&gt;</th><th scope=col>&lt;int&gt;</th><th scope=col>&lt;int&gt;</th><th scope=col>&lt;int&gt;</th><th scope=col>&lt;int&gt;</th><th scope=col>&lt;int&gt;</th><th scope=col>&lt;int&gt;</th><th scope=col>⋯</th><th scope=col>&lt;int&gt;</th><th scope=col>&lt;int&gt;</th><th scope=col>&lt;int&gt;</th><th scope=col>&lt;int&gt;</th><th scope=col>&lt;int&gt;</th><th scope=col>&lt;int&gt;</th><th scope=col>&lt;int&gt;</th><th scope=col>&lt;int&gt;</th><th scope=col>&lt;int&gt;</th><th scope=col>&lt;int&gt;</th></tr>\n",
       "</thead>\n",
       "<tbody>\n",
       "\t<tr><td>AD</td><td>1989</td><td>NA</td><td>NA</td><td>NA</td><td>NA</td><td>NA</td><td>NA</td><td>NA</td><td>NA</td><td>⋯</td><td>NA</td><td>NA</td><td>NA</td><td>NA</td><td>NA</td><td>NA</td><td>NA</td><td>NA</td><td>NA</td><td>NA</td></tr>\n",
       "\t<tr><td>AD</td><td>1990</td><td>NA</td><td>NA</td><td>NA</td><td>NA</td><td>NA</td><td>NA</td><td>NA</td><td>NA</td><td>⋯</td><td>NA</td><td>NA</td><td>NA</td><td>NA</td><td>NA</td><td>NA</td><td>NA</td><td>NA</td><td>NA</td><td>NA</td></tr>\n",
       "\t<tr><td>AD</td><td>1991</td><td>NA</td><td>NA</td><td>NA</td><td>NA</td><td>NA</td><td>NA</td><td>NA</td><td>NA</td><td>⋯</td><td>NA</td><td>NA</td><td>NA</td><td>NA</td><td>NA</td><td>NA</td><td>NA</td><td>NA</td><td>NA</td><td>NA</td></tr>\n",
       "\t<tr><td>AD</td><td>1992</td><td>NA</td><td>NA</td><td>NA</td><td>NA</td><td>NA</td><td>NA</td><td>NA</td><td>NA</td><td>⋯</td><td>NA</td><td>NA</td><td>NA</td><td>NA</td><td>NA</td><td>NA</td><td>NA</td><td>NA</td><td>NA</td><td>NA</td></tr>\n",
       "\t<tr><td>AD</td><td>1993</td><td>15</td><td>NA</td><td>NA</td><td>NA</td><td>NA</td><td>NA</td><td>NA</td><td>NA</td><td>⋯</td><td>NA</td><td>NA</td><td>NA</td><td>NA</td><td>NA</td><td>NA</td><td>NA</td><td>NA</td><td>NA</td><td>NA</td></tr>\n",
       "\t<tr><td>AD</td><td>1994</td><td>24</td><td>NA</td><td>NA</td><td>NA</td><td>NA</td><td>NA</td><td>NA</td><td>NA</td><td>⋯</td><td>NA</td><td>NA</td><td>NA</td><td>NA</td><td>NA</td><td>NA</td><td>NA</td><td>NA</td><td>NA</td><td>NA</td></tr>\n",
       "</tbody>\n",
       "</table>\n"
      ],
      "text/latex": [
       "A data.frame: 6 × 23\n",
       "\\begin{tabular}{r|lllllllllllllllllllllll}\n",
       " iso2 & year & new\\_sp & new\\_sp\\_m04 & new\\_sp\\_m514 & new\\_sp\\_m014 & new\\_sp\\_m1524 & new\\_sp\\_m2534 & new\\_sp\\_m3544 & new\\_sp\\_m4554 & new\\_sp\\_m5564 & new\\_sp\\_m65 & new\\_sp\\_mu & new\\_sp\\_f04 & new\\_sp\\_f514 & new\\_sp\\_f014 & new\\_sp\\_f1524 & new\\_sp\\_f2534 & new\\_sp\\_f3544 & new\\_sp\\_f4554 & new\\_sp\\_f5564 & new\\_sp\\_f65 & new\\_sp\\_fu\\\\\n",
       " <chr> & <int> & <int> & <int> & <int> & <int> & <int> & <int> & <int> & <int> & <int> & <int> & <int> & <int> & <int> & <int> & <int> & <int> & <int> & <int> & <int> & <int> & <int>\\\\\n",
       "\\hline\n",
       "\t AD & 1989 & NA & NA & NA & NA & NA & NA & NA & NA & NA & NA & NA & NA & NA & NA & NA & NA & NA & NA & NA & NA & NA\\\\\n",
       "\t AD & 1990 & NA & NA & NA & NA & NA & NA & NA & NA & NA & NA & NA & NA & NA & NA & NA & NA & NA & NA & NA & NA & NA\\\\\n",
       "\t AD & 1991 & NA & NA & NA & NA & NA & NA & NA & NA & NA & NA & NA & NA & NA & NA & NA & NA & NA & NA & NA & NA & NA\\\\\n",
       "\t AD & 1992 & NA & NA & NA & NA & NA & NA & NA & NA & NA & NA & NA & NA & NA & NA & NA & NA & NA & NA & NA & NA & NA\\\\\n",
       "\t AD & 1993 & 15 & NA & NA & NA & NA & NA & NA & NA & NA & NA & NA & NA & NA & NA & NA & NA & NA & NA & NA & NA & NA\\\\\n",
       "\t AD & 1994 & 24 & NA & NA & NA & NA & NA & NA & NA & NA & NA & NA & NA & NA & NA & NA & NA & NA & NA & NA & NA & NA\\\\\n",
       "\\end{tabular}\n"
      ],
      "text/markdown": [
       "\n",
       "A data.frame: 6 × 23\n",
       "\n",
       "| iso2 &lt;chr&gt; | year &lt;int&gt; | new_sp &lt;int&gt; | new_sp_m04 &lt;int&gt; | new_sp_m514 &lt;int&gt; | new_sp_m014 &lt;int&gt; | new_sp_m1524 &lt;int&gt; | new_sp_m2534 &lt;int&gt; | new_sp_m3544 &lt;int&gt; | new_sp_m4554 &lt;int&gt; | ⋯ ⋯ | new_sp_f04 &lt;int&gt; | new_sp_f514 &lt;int&gt; | new_sp_f014 &lt;int&gt; | new_sp_f1524 &lt;int&gt; | new_sp_f2534 &lt;int&gt; | new_sp_f3544 &lt;int&gt; | new_sp_f4554 &lt;int&gt; | new_sp_f5564 &lt;int&gt; | new_sp_f65 &lt;int&gt; | new_sp_fu &lt;int&gt; |\n",
       "|---|---|---|---|---|---|---|---|---|---|---|---|---|---|---|---|---|---|---|---|---|\n",
       "| AD | 1989 | NA | NA | NA | NA | NA | NA | NA | NA | ⋯ | NA | NA | NA | NA | NA | NA | NA | NA | NA | NA |\n",
       "| AD | 1990 | NA | NA | NA | NA | NA | NA | NA | NA | ⋯ | NA | NA | NA | NA | NA | NA | NA | NA | NA | NA |\n",
       "| AD | 1991 | NA | NA | NA | NA | NA | NA | NA | NA | ⋯ | NA | NA | NA | NA | NA | NA | NA | NA | NA | NA |\n",
       "| AD | 1992 | NA | NA | NA | NA | NA | NA | NA | NA | ⋯ | NA | NA | NA | NA | NA | NA | NA | NA | NA | NA |\n",
       "| AD | 1993 | 15 | NA | NA | NA | NA | NA | NA | NA | ⋯ | NA | NA | NA | NA | NA | NA | NA | NA | NA | NA |\n",
       "| AD | 1994 | 24 | NA | NA | NA | NA | NA | NA | NA | ⋯ | NA | NA | NA | NA | NA | NA | NA | NA | NA | NA |\n",
       "\n"
      ],
      "text/plain": [
       "  iso2 year new_sp new_sp_m04 new_sp_m514 new_sp_m014 new_sp_m1524 new_sp_m2534\n",
       "1 AD   1989 NA     NA         NA          NA          NA           NA          \n",
       "2 AD   1990 NA     NA         NA          NA          NA           NA          \n",
       "3 AD   1991 NA     NA         NA          NA          NA           NA          \n",
       "4 AD   1992 NA     NA         NA          NA          NA           NA          \n",
       "5 AD   1993 15     NA         NA          NA          NA           NA          \n",
       "6 AD   1994 24     NA         NA          NA          NA           NA          \n",
       "  new_sp_m3544 new_sp_m4554 ⋯ new_sp_f04 new_sp_f514 new_sp_f014 new_sp_f1524\n",
       "1 NA           NA           ⋯ NA         NA          NA          NA          \n",
       "2 NA           NA           ⋯ NA         NA          NA          NA          \n",
       "3 NA           NA           ⋯ NA         NA          NA          NA          \n",
       "4 NA           NA           ⋯ NA         NA          NA          NA          \n",
       "5 NA           NA           ⋯ NA         NA          NA          NA          \n",
       "6 NA           NA           ⋯ NA         NA          NA          NA          \n",
       "  new_sp_f2534 new_sp_f3544 new_sp_f4554 new_sp_f5564 new_sp_f65 new_sp_fu\n",
       "1 NA           NA           NA           NA           NA         NA       \n",
       "2 NA           NA           NA           NA           NA         NA       \n",
       "3 NA           NA           NA           NA           NA         NA       \n",
       "4 NA           NA           NA           NA           NA         NA       \n",
       "5 NA           NA           NA           NA           NA         NA       \n",
       "6 NA           NA           NA           NA           NA         NA       "
      ]
     },
     "metadata": {},
     "output_type": "display_data"
    }
   ],
   "source": [
    "tb <- read.csv(\n",
    "  file = \"http://stat405.had.co.nz/data/tb.csv\",\n",
    "  header = TRUE, \n",
    "  stringsAsFactors = FALSE\n",
    ")\n",
    "head(tb)"
   ]
  },
  {
   "cell_type": "markdown",
   "metadata": {},
   "source": [
    "#### Datos climáticos"
   ]
  },
  {
   "cell_type": "code",
   "execution_count": 13,
   "metadata": {},
   "outputs": [
    {
     "data": {
      "text/html": [
       "<table>\n",
       "<caption>A data.frame: 6 × 35</caption>\n",
       "<thead>\n",
       "\t<tr><th scope=col>id</th><th scope=col>year</th><th scope=col>month</th><th scope=col>element</th><th scope=col>d1</th><th scope=col>d2</th><th scope=col>d3</th><th scope=col>d4</th><th scope=col>d5</th><th scope=col>d6</th><th scope=col>⋯</th><th scope=col>d22</th><th scope=col>d23</th><th scope=col>d24</th><th scope=col>d25</th><th scope=col>d26</th><th scope=col>d27</th><th scope=col>d28</th><th scope=col>d29</th><th scope=col>d30</th><th scope=col>d31</th></tr>\n",
       "\t<tr><th scope=col>&lt;chr&gt;</th><th scope=col>&lt;int&gt;</th><th scope=col>&lt;int&gt;</th><th scope=col>&lt;chr&gt;</th><th scope=col>&lt;int&gt;</th><th scope=col>&lt;int&gt;</th><th scope=col>&lt;int&gt;</th><th scope=col>&lt;int&gt;</th><th scope=col>&lt;int&gt;</th><th scope=col>&lt;int&gt;</th><th scope=col>⋯</th><th scope=col>&lt;lgl&gt;</th><th scope=col>&lt;int&gt;</th><th scope=col>&lt;lgl&gt;</th><th scope=col>&lt;int&gt;</th><th scope=col>&lt;int&gt;</th><th scope=col>&lt;int&gt;</th><th scope=col>&lt;int&gt;</th><th scope=col>&lt;int&gt;</th><th scope=col>&lt;int&gt;</th><th scope=col>&lt;int&gt;</th></tr>\n",
       "</thead>\n",
       "<tbody>\n",
       "\t<tr><td>MX000017004</td><td>2010</td><td>1</td><td>TMAX</td><td>NA</td><td> NA</td><td> NA</td><td>NA</td><td> NA</td><td>NA</td><td>⋯</td><td>NA</td><td> NA</td><td>NA</td><td>NA</td><td>NA</td><td>NA</td><td>NA</td><td>NA</td><td>278</td><td>NA</td></tr>\n",
       "\t<tr><td>MX000017004</td><td>2010</td><td>1</td><td>TMIN</td><td>NA</td><td> NA</td><td> NA</td><td>NA</td><td> NA</td><td>NA</td><td>⋯</td><td>NA</td><td> NA</td><td>NA</td><td>NA</td><td>NA</td><td>NA</td><td>NA</td><td>NA</td><td>145</td><td>NA</td></tr>\n",
       "\t<tr><td>MX000017004</td><td>2010</td><td>2</td><td>TMAX</td><td>NA</td><td>273</td><td>241</td><td>NA</td><td> NA</td><td>NA</td><td>⋯</td><td>NA</td><td>299</td><td>NA</td><td>NA</td><td>NA</td><td>NA</td><td>NA</td><td>NA</td><td> NA</td><td>NA</td></tr>\n",
       "\t<tr><td>MX000017004</td><td>2010</td><td>2</td><td>TMIN</td><td>NA</td><td>144</td><td>144</td><td>NA</td><td> NA</td><td>NA</td><td>⋯</td><td>NA</td><td>107</td><td>NA</td><td>NA</td><td>NA</td><td>NA</td><td>NA</td><td>NA</td><td> NA</td><td>NA</td></tr>\n",
       "\t<tr><td>MX000017004</td><td>2010</td><td>3</td><td>TMAX</td><td>NA</td><td> NA</td><td> NA</td><td>NA</td><td>321</td><td>NA</td><td>⋯</td><td>NA</td><td> NA</td><td>NA</td><td>NA</td><td>NA</td><td>NA</td><td>NA</td><td>NA</td><td> NA</td><td>NA</td></tr>\n",
       "\t<tr><td>MX000017004</td><td>2010</td><td>3</td><td>TMIN</td><td>NA</td><td> NA</td><td> NA</td><td>NA</td><td>142</td><td>NA</td><td>⋯</td><td>NA</td><td> NA</td><td>NA</td><td>NA</td><td>NA</td><td>NA</td><td>NA</td><td>NA</td><td> NA</td><td>NA</td></tr>\n",
       "</tbody>\n",
       "</table>\n"
      ],
      "text/latex": [
       "A data.frame: 6 × 35\n",
       "\\begin{tabular}{r|lllllllllllllllllllllllllllllllllll}\n",
       " id & year & month & element & d1 & d2 & d3 & d4 & d5 & d6 & d7 & d8 & d9 & d10 & d11 & d12 & d13 & d14 & d15 & d16 & d17 & d18 & d19 & d20 & d21 & d22 & d23 & d24 & d25 & d26 & d27 & d28 & d29 & d30 & d31\\\\\n",
       " <chr> & <int> & <int> & <chr> & <int> & <int> & <int> & <int> & <int> & <int> & <int> & <int> & <lgl> & <int> & <int> & <lgl> & <int> & <int> & <int> & <int> & <int> & <lgl> & <lgl> & <lgl> & <lgl> & <lgl> & <int> & <lgl> & <int> & <int> & <int> & <int> & <int> & <int> & <int>\\\\\n",
       "\\hline\n",
       "\t MX000017004 & 2010 & 1 & TMAX & NA &  NA &  NA & NA &  NA & NA & NA & NA & NA &  NA &  NA & NA & NA & NA & NA &  NA & NA & NA & NA & NA & NA & NA &  NA & NA & NA & NA & NA & NA & NA & 278 & NA\\\\\n",
       "\t MX000017004 & 2010 & 1 & TMIN & NA &  NA &  NA & NA &  NA & NA & NA & NA & NA &  NA &  NA & NA & NA & NA & NA &  NA & NA & NA & NA & NA & NA & NA &  NA & NA & NA & NA & NA & NA & NA & 145 & NA\\\\\n",
       "\t MX000017004 & 2010 & 2 & TMAX & NA & 273 & 241 & NA &  NA & NA & NA & NA & NA &  NA & 297 & NA & NA & NA & NA &  NA & NA & NA & NA & NA & NA & NA & 299 & NA & NA & NA & NA & NA & NA &  NA & NA\\\\\n",
       "\t MX000017004 & 2010 & 2 & TMIN & NA & 144 & 144 & NA &  NA & NA & NA & NA & NA &  NA & 134 & NA & NA & NA & NA &  NA & NA & NA & NA & NA & NA & NA & 107 & NA & NA & NA & NA & NA & NA &  NA & NA\\\\\n",
       "\t MX000017004 & 2010 & 3 & TMAX & NA &  NA &  NA & NA & 321 & NA & NA & NA & NA & 345 &  NA & NA & NA & NA & NA & 311 & NA & NA & NA & NA & NA & NA &  NA & NA & NA & NA & NA & NA & NA &  NA & NA\\\\\n",
       "\t MX000017004 & 2010 & 3 & TMIN & NA &  NA &  NA & NA & 142 & NA & NA & NA & NA & 168 &  NA & NA & NA & NA & NA & 176 & NA & NA & NA & NA & NA & NA &  NA & NA & NA & NA & NA & NA & NA &  NA & NA\\\\\n",
       "\\end{tabular}\n"
      ],
      "text/markdown": [
       "\n",
       "A data.frame: 6 × 35\n",
       "\n",
       "| id &lt;chr&gt; | year &lt;int&gt; | month &lt;int&gt; | element &lt;chr&gt; | d1 &lt;int&gt; | d2 &lt;int&gt; | d3 &lt;int&gt; | d4 &lt;int&gt; | d5 &lt;int&gt; | d6 &lt;int&gt; | ⋯ ⋯ | d22 &lt;lgl&gt; | d23 &lt;int&gt; | d24 &lt;lgl&gt; | d25 &lt;int&gt; | d26 &lt;int&gt; | d27 &lt;int&gt; | d28 &lt;int&gt; | d29 &lt;int&gt; | d30 &lt;int&gt; | d31 &lt;int&gt; |\n",
       "|---|---|---|---|---|---|---|---|---|---|---|---|---|---|---|---|---|---|---|---|---|\n",
       "| MX000017004 | 2010 | 1 | TMAX | NA |  NA |  NA | NA |  NA | NA | ⋯ | NA |  NA | NA | NA | NA | NA | NA | NA | 278 | NA |\n",
       "| MX000017004 | 2010 | 1 | TMIN | NA |  NA |  NA | NA |  NA | NA | ⋯ | NA |  NA | NA | NA | NA | NA | NA | NA | 145 | NA |\n",
       "| MX000017004 | 2010 | 2 | TMAX | NA | 273 | 241 | NA |  NA | NA | ⋯ | NA | 299 | NA | NA | NA | NA | NA | NA |  NA | NA |\n",
       "| MX000017004 | 2010 | 2 | TMIN | NA | 144 | 144 | NA |  NA | NA | ⋯ | NA | 107 | NA | NA | NA | NA | NA | NA |  NA | NA |\n",
       "| MX000017004 | 2010 | 3 | TMAX | NA |  NA |  NA | NA | 321 | NA | ⋯ | NA |  NA | NA | NA | NA | NA | NA | NA |  NA | NA |\n",
       "| MX000017004 | 2010 | 3 | TMIN | NA |  NA |  NA | NA | 142 | NA | ⋯ | NA |  NA | NA | NA | NA | NA | NA | NA |  NA | NA |\n",
       "\n"
      ],
      "text/plain": [
       "  id          year month element d1 d2  d3  d4 d5  d6 ⋯ d22 d23 d24 d25 d26 d27\n",
       "1 MX000017004 2010 1     TMAX    NA  NA  NA NA  NA NA ⋯ NA   NA NA  NA  NA  NA \n",
       "2 MX000017004 2010 1     TMIN    NA  NA  NA NA  NA NA ⋯ NA   NA NA  NA  NA  NA \n",
       "3 MX000017004 2010 2     TMAX    NA 273 241 NA  NA NA ⋯ NA  299 NA  NA  NA  NA \n",
       "4 MX000017004 2010 2     TMIN    NA 144 144 NA  NA NA ⋯ NA  107 NA  NA  NA  NA \n",
       "5 MX000017004 2010 3     TMAX    NA  NA  NA NA 321 NA ⋯ NA   NA NA  NA  NA  NA \n",
       "6 MX000017004 2010 3     TMIN    NA  NA  NA NA 142 NA ⋯ NA   NA NA  NA  NA  NA \n",
       "  d28 d29 d30 d31\n",
       "1 NA  NA  278 NA \n",
       "2 NA  NA  145 NA \n",
       "3 NA  NA   NA NA \n",
       "4 NA  NA   NA NA \n",
       "5 NA  NA   NA NA \n",
       "6 NA  NA   NA NA "
      ]
     },
     "metadata": {},
     "output_type": "display_data"
    }
   ],
   "source": [
    "weather <- read.delim(\n",
    " file = \"http://stat405.had.co.nz/data/weather.txt\",\n",
    " stringsAsFactors = FALSE\n",
    ")\n",
    "head(weather)"
   ]
  },
  {
   "cell_type": "markdown",
   "metadata": {},
   "source": [
    "#### Causas de suciedad en los datos\n",
    "\n",
    "Hay varias características que pueden ser observadas en la práctica. Aquí hay algunos de los más observados patrones.\n",
    "* El nombre de la columna son valores, no los nombres de las variables.\n",
    "* Múltiples variables almacenadas en una sola columna.\n",
    "* Las variables están almacenadas tanto en filas como en columnas.\n",
    "* Múltiples tipos de unidades experimentales almacenadas en la misma tabla.\n",
    "* Un tipo de unidad experimental almacenada en múltiples tablas.\n",
    "\n",
    "## *Reshape*\n",
    "\n",
    "Una forma de ordenar los datos, es cambiando la forma de todo el dataset; es decir, *reshape*. Cambiar la forma de los datos puede ayudar a ajustarlos a las tres reglas para tener datos ordenados. Si bien R por defecto tiene varias funciones que lo permiten, trabajaremos con la librería ``reshape2`` de Hadley Wickham, que provee un conjunto de funciones consistente para cambiar la forma de los datos.\n",
    "\n",
    "### Ejemplo\n",
    "\n",
    "En los términos más simples, remodelar (*reshape*) los datos es como hacer una tabla pivote en excel, donde cambias las columnas, las filas, y los valores. Empecemos ordenando los datos del dataset de pew."
   ]
  },
  {
   "cell_type": "code",
   "execution_count": 32,
   "metadata": {},
   "outputs": [
    {
     "data": {
      "text/html": [
       "<table>\n",
       "<caption>A data.frame: 6 × 11</caption>\n",
       "<thead>\n",
       "\t<tr><th scope=col>religion</th><th scope=col>&lt;$10k</th><th scope=col>$10-20k</th><th scope=col>$20-30k</th><th scope=col>$30-40k</th><th scope=col>$40-50k</th><th scope=col>$50-75k</th><th scope=col>$75-100k</th><th scope=col>$100-150k</th><th scope=col>&gt;150k</th><th scope=col>Don't know/refused</th></tr>\n",
       "\t<tr><th scope=col>&lt;chr&gt;</th><th scope=col>&lt;int&gt;</th><th scope=col>&lt;int&gt;</th><th scope=col>&lt;int&gt;</th><th scope=col>&lt;int&gt;</th><th scope=col>&lt;int&gt;</th><th scope=col>&lt;int&gt;</th><th scope=col>&lt;int&gt;</th><th scope=col>&lt;int&gt;</th><th scope=col>&lt;int&gt;</th><th scope=col>&lt;int&gt;</th></tr>\n",
       "</thead>\n",
       "<tbody>\n",
       "\t<tr><td>Agnostic          </td><td> 27</td><td> 34</td><td>  60</td><td> 81</td><td> 76</td><td> 137</td><td>122</td><td>109</td><td> 84</td><td>  96</td></tr>\n",
       "\t<tr><td>Atheist           </td><td> 12</td><td> 27</td><td>  37</td><td> 52</td><td> 35</td><td>  70</td><td> 73</td><td> 59</td><td> 74</td><td>  76</td></tr>\n",
       "\t<tr><td>Buddhist          </td><td> 27</td><td> 21</td><td>  30</td><td> 34</td><td> 33</td><td>  58</td><td> 62</td><td> 39</td><td> 53</td><td>  54</td></tr>\n",
       "\t<tr><td>Catholic          </td><td>418</td><td>617</td><td> 732</td><td>670</td><td>638</td><td>1116</td><td>949</td><td>792</td><td>633</td><td>1489</td></tr>\n",
       "\t<tr><td>Don’t know/refused</td><td> 15</td><td> 14</td><td>  15</td><td> 11</td><td> 10</td><td>  35</td><td> 21</td><td> 17</td><td> 18</td><td> 116</td></tr>\n",
       "\t<tr><td>Evangelical Prot  </td><td>575</td><td>869</td><td>1064</td><td>982</td><td>881</td><td>1486</td><td>949</td><td>723</td><td>414</td><td>1529</td></tr>\n",
       "</tbody>\n",
       "</table>\n"
      ],
      "text/latex": [
       "A data.frame: 6 × 11\n",
       "\\begin{tabular}{r|lllllllllll}\n",
       " religion & <\\$10k & \\$10-20k & \\$20-30k & \\$30-40k & \\$40-50k & \\$50-75k & \\$75-100k & \\$100-150k & >150k & Don't know/refused\\\\\n",
       " <chr> & <int> & <int> & <int> & <int> & <int> & <int> & <int> & <int> & <int> & <int>\\\\\n",
       "\\hline\n",
       "\t Agnostic           &  27 &  34 &   60 &  81 &  76 &  137 & 122 & 109 &  84 &   96\\\\\n",
       "\t Atheist            &  12 &  27 &   37 &  52 &  35 &   70 &  73 &  59 &  74 &   76\\\\\n",
       "\t Buddhist           &  27 &  21 &   30 &  34 &  33 &   58 &  62 &  39 &  53 &   54\\\\\n",
       "\t Catholic           & 418 & 617 &  732 & 670 & 638 & 1116 & 949 & 792 & 633 & 1489\\\\\n",
       "\t Don’t know/refused &  15 &  14 &   15 &  11 &  10 &   35 &  21 &  17 &  18 &  116\\\\\n",
       "\t Evangelical Prot   & 575 & 869 & 1064 & 982 & 881 & 1486 & 949 & 723 & 414 & 1529\\\\\n",
       "\\end{tabular}\n"
      ],
      "text/markdown": [
       "\n",
       "A data.frame: 6 × 11\n",
       "\n",
       "| religion &lt;chr&gt; | &lt;$10k &lt;int&gt; | $10-20k &lt;int&gt; | $20-30k &lt;int&gt; | $30-40k &lt;int&gt; | $40-50k &lt;int&gt; | $50-75k &lt;int&gt; | $75-100k &lt;int&gt; | $100-150k &lt;int&gt; | &gt;150k &lt;int&gt; | Don't know/refused &lt;int&gt; |\n",
       "|---|---|---|---|---|---|---|---|---|---|---|\n",
       "| Agnostic           |  27 |  34 |   60 |  81 |  76 |  137 | 122 | 109 |  84 |   96 |\n",
       "| Atheist            |  12 |  27 |   37 |  52 |  35 |   70 |  73 |  59 |  74 |   76 |\n",
       "| Buddhist           |  27 |  21 |   30 |  34 |  33 |   58 |  62 |  39 |  53 |   54 |\n",
       "| Catholic           | 418 | 617 |  732 | 670 | 638 | 1116 | 949 | 792 | 633 | 1489 |\n",
       "| Don’t know/refused |  15 |  14 |   15 |  11 |  10 |   35 |  21 |  17 |  18 |  116 |\n",
       "| Evangelical Prot   | 575 | 869 | 1064 | 982 | 881 | 1486 | 949 | 723 | 414 | 1529 |\n",
       "\n"
      ],
      "text/plain": [
       "  religion           <$10k $10-20k $20-30k $30-40k $40-50k $50-75k $75-100k\n",
       "1 Agnostic            27    34       60     81      76      137    122     \n",
       "2 Atheist             12    27       37     52      35       70     73     \n",
       "3 Buddhist            27    21       30     34      33       58     62     \n",
       "4 Catholic           418   617      732    670     638     1116    949     \n",
       "5 Don’t know/refused  15    14       15     11      10       35     21     \n",
       "6 Evangelical Prot   575   869     1064    982     881     1486    949     \n",
       "  $100-150k >150k Don't know/refused\n",
       "1 109        84     96              \n",
       "2  59        74     76              \n",
       "3  39        53     54              \n",
       "4 792       633   1489              \n",
       "5  17        18    116              \n",
       "6 723       414   1529              "
      ]
     },
     "metadata": {},
     "output_type": "display_data"
    }
   ],
   "source": [
    "pew <- read.delim(\n",
    "  file = \"pew.txt\",\n",
    "  header = TRUE,\n",
    "  stringsAsFactors = FALSE,\n",
    "  check.names = F, sep=\",\"\n",
    ")\n",
    "head(pew)"
   ]
  },
  {
   "cell_type": "markdown",
   "metadata": {},
   "source": [
    "Podemos ordenar estos datos usando la función `melt`, alojada en el paquete `reshape2`."
   ]
  },
  {
   "cell_type": "code",
   "execution_count": 35,
   "metadata": {},
   "outputs": [
    {
     "data": {
      "text/html": [
       "<table>\n",
       "<caption>A data.frame: 6 × 3</caption>\n",
       "<thead>\n",
       "\t<tr><th scope=col>religion</th><th scope=col>income</th><th scope=col>frequency</th></tr>\n",
       "\t<tr><th scope=col>&lt;chr&gt;</th><th scope=col>&lt;fct&gt;</th><th scope=col>&lt;int&gt;</th></tr>\n",
       "</thead>\n",
       "<tbody>\n",
       "\t<tr><td><span style=white-space:pre-wrap>Agnostic          </span></td><td>&lt;$10k</td><td> 27</td></tr>\n",
       "\t<tr><td><span style=white-space:pre-wrap>Atheist           </span></td><td>&lt;$10k</td><td> 12</td></tr>\n",
       "\t<tr><td><span style=white-space:pre-wrap>Buddhist          </span></td><td>&lt;$10k</td><td> 27</td></tr>\n",
       "\t<tr><td><span style=white-space:pre-wrap>Catholic          </span></td><td>&lt;$10k</td><td>418</td></tr>\n",
       "\t<tr><td>Don’t know/refused</td><td>&lt;$10k</td><td> 15</td></tr>\n",
       "\t<tr><td><span style=white-space:pre-wrap>Evangelical Prot  </span></td><td>&lt;$10k</td><td>575</td></tr>\n",
       "</tbody>\n",
       "</table>\n"
      ],
      "text/latex": [
       "A data.frame: 6 × 3\n",
       "\\begin{tabular}{r|lll}\n",
       " religion & income & frequency\\\\\n",
       " <chr> & <fct> & <int>\\\\\n",
       "\\hline\n",
       "\t Agnostic           & <\\$10k &  27\\\\\n",
       "\t Atheist            & <\\$10k &  12\\\\\n",
       "\t Buddhist           & <\\$10k &  27\\\\\n",
       "\t Catholic           & <\\$10k & 418\\\\\n",
       "\t Don’t know/refused & <\\$10k &  15\\\\\n",
       "\t Evangelical Prot   & <\\$10k & 575\\\\\n",
       "\\end{tabular}\n"
      ],
      "text/markdown": [
       "\n",
       "A data.frame: 6 × 3\n",
       "\n",
       "| religion &lt;chr&gt; | income &lt;fct&gt; | frequency &lt;int&gt; |\n",
       "|---|---|---|\n",
       "| Agnostic           | &lt;$10k |  27 |\n",
       "| Atheist            | &lt;$10k |  12 |\n",
       "| Buddhist           | &lt;$10k |  27 |\n",
       "| Catholic           | &lt;$10k | 418 |\n",
       "| Don’t know/refused | &lt;$10k |  15 |\n",
       "| Evangelical Prot   | &lt;$10k | 575 |\n",
       "\n"
      ],
      "text/plain": [
       "  religion           income frequency\n",
       "1 Agnostic           <$10k   27      \n",
       "2 Atheist            <$10k   12      \n",
       "3 Buddhist           <$10k   27      \n",
       "4 Catholic           <$10k  418      \n",
       "5 Don’t know/refused <$10k   15      \n",
       "6 Evangelical Prot   <$10k  575      "
      ]
     },
     "metadata": {},
     "output_type": "display_data"
    }
   ],
   "source": [
    "library(reshape2)\n",
    "pew_tidy <- melt(\n",
    "  data = pew,\n",
    "  id = \"religion\",\n",
    "  variable.name = \"income\",\n",
    "  value.name = \"frequency\"\n",
    ")\n",
    "head(pew_tidy)"
   ]
  },
  {
   "cell_type": "markdown",
   "metadata": {},
   "source": [
    "### Ejercicio 1\n",
    "\n",
    "Ahora que sabes como usar `melt` en un dataframe, usa la misma idea para ordenar los daros de tuberculosis. Piensa en cómo puedes separar género y edad después de hacer `melt` en los datos."
   ]
  },
  {
   "cell_type": "code",
   "execution_count": null,
   "metadata": {
    "collapsed": true
   },
   "outputs": [],
   "source": []
  },
  {
   "cell_type": "markdown",
   "metadata": {},
   "source": [
    "### Ejercicio 2\n",
    "Usa los mismos principios para los datos climáticos."
   ]
  },
  {
   "cell_type": "code",
   "execution_count": null,
   "metadata": {
    "collapsed": true
   },
   "outputs": [],
   "source": []
  }
 ],
 "metadata": {
  "kernelspec": {
   "display_name": "R",
   "language": "R",
   "name": "ir"
  },
  "language_info": {
   "codemirror_mode": "r",
   "file_extension": ".r",
   "mimetype": "text/x-r-source",
   "name": "R",
   "pygments_lexer": "r",
   "version": "3.4.1"
  }
 },
 "nbformat": 4,
 "nbformat_minor": 2
}
