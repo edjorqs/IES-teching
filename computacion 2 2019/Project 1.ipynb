{
 "cells": [
  {
   "cell_type": "markdown",
   "metadata": {},
   "source": [
    "# Proyecto 1\n",
    "\n",
    "Computación 2, IES\n",
    "\n",
    "Profesor: Eduardo Jorquera (eduardo.jorquera@postgrado.uv.cl)\n",
    "\n",
    "Fecha de entrega: Lunes 2 de Septiembre\n",
    "\n",
    "Hora tope: 23:55 pm\n",
    "\n",
    "Al igual que los trabajos anteriores, el retraso en la entrega implicará una menor nota. \n",
    "\n",
    "\n",
    "# Instrucciones\n",
    "\n",
    "Reúnase en grupos de 3 para hacer lo siguiente:\n",
    "\n",
    "**1.-** Desarrolle en R el capítulo 2 del libro Practical Data science Cookbok, adjunto al classroom.\n",
    "\n",
    "**2.-** Obtenga el promedio y desviación estándar por año de MPG para cada tipo de auto (manual o automático)\n",
    "\n",
    "**3.-** Considere el último gráfico del capítulo 2; si suponemos que hay una relación lineal entre los promedios de MPG y el tiempo, ¿cuál es la marca tiene un mayor crecimiento?\n",
    "\n",
    "**Subir el trabajo en html y jpynb**"
   ]
  }
 ],
 "metadata": {
  "kernelspec": {
   "display_name": "Python 3",
   "language": "python",
   "name": "python3"
  },
  "language_info": {
   "codemirror_mode": {
    "name": "ipython",
    "version": 3
   },
   "file_extension": ".py",
   "mimetype": "text/x-python",
   "name": "python",
   "nbconvert_exporter": "python",
   "pygments_lexer": "ipython3",
   "version": "3.6.5"
  }
 },
 "nbformat": 4,
 "nbformat_minor": 2
}
