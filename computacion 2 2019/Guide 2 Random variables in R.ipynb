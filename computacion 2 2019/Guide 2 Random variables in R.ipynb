{
 "cells": [
  {
   "cell_type": "markdown",
   "metadata": {},
   "source": [
    "# Guía 2: Variables aleatorias en R\n",
    "## Computación II, IES\n",
    "Eduardo Jorquera, eduardo.jorquera@postgrado.uv.cl\n",
    "\n",
    "# R\n",
    "\n",
    "Generar números aleatorios:"
   ]
  },
  {
   "cell_type": "code",
   "execution_count": 10,
   "metadata": {},
   "outputs": [
    {
     "data": {
      "text/html": [
       "0.197604784276336"
      ],
      "text/latex": [
       "0.197604784276336"
      ],
      "text/markdown": [
       "0.197604784276336"
      ],
      "text/plain": [
       "[1] 0.1976048"
      ]
     },
     "metadata": {},
     "output_type": "display_data"
    },
    {
     "data": {
      "text/html": [
       "<ol class=list-inline>\n",
       "\t<li>0.541202875087038</li>\n",
       "\t<li>0.567482594866306</li>\n",
       "\t<li>0.174063569866121</li>\n",
       "\t<li>0.0644175754860044</li>\n",
       "</ol>\n"
      ],
      "text/latex": [
       "\\begin{enumerate*}\n",
       "\\item 0.541202875087038\n",
       "\\item 0.567482594866306\n",
       "\\item 0.174063569866121\n",
       "\\item 0.0644175754860044\n",
       "\\end{enumerate*}\n"
      ],
      "text/markdown": [
       "1. 0.541202875087038\n",
       "2. 0.567482594866306\n",
       "3. 0.174063569866121\n",
       "4. 0.0644175754860044\n",
       "\n",
       "\n"
      ],
      "text/plain": [
       "[1] 0.54120288 0.56748259 0.17406357 0.06441758"
      ]
     },
     "metadata": {},
     "output_type": "display_data"
    },
    {
     "data": {
      "text/html": [
       "<ol class=list-inline>\n",
       "\t<li>79.2761970078573</li>\n",
       "\t<li>71.0842247121036</li>\n",
       "\t<li>78.4556540893391</li>\n",
       "</ol>\n"
      ],
      "text/latex": [
       "\\begin{enumerate*}\n",
       "\\item 79.2761970078573\n",
       "\\item 71.0842247121036\n",
       "\\item 78.4556540893391\n",
       "\\end{enumerate*}\n"
      ],
      "text/markdown": [
       "1. 79.2761970078573\n",
       "2. 71.0842247121036\n",
       "3. 78.4556540893391\n",
       "\n",
       "\n"
      ],
      "text/plain": [
       "[1] 79.27620 71.08422 78.45565"
      ]
     },
     "metadata": {},
     "output_type": "display_data"
    },
    {
     "data": {
      "text/html": [
       "<ol class=list-inline>\n",
       "\t<li>91</li>\n",
       "\t<li>2</li>\n",
       "\t<li>42</li>\n",
       "</ol>\n"
      ],
      "text/latex": [
       "\\begin{enumerate*}\n",
       "\\item 91\n",
       "\\item 2\n",
       "\\item 42\n",
       "\\end{enumerate*}\n"
      ],
      "text/markdown": [
       "1. 91\n",
       "2. 2\n",
       "3. 42\n",
       "\n",
       "\n"
      ],
      "text/plain": [
       "[1] 91  2 42"
      ]
     },
     "metadata": {},
     "output_type": "display_data"
    },
    {
     "data": {
      "text/html": [
       "<ol class=list-inline>\n",
       "\t<li>94</li>\n",
       "\t<li>26</li>\n",
       "\t<li>90</li>\n",
       "</ol>\n"
      ],
      "text/latex": [
       "\\begin{enumerate*}\n",
       "\\item 94\n",
       "\\item 26\n",
       "\\item 90\n",
       "\\end{enumerate*}\n"
      ],
      "text/markdown": [
       "1. 94\n",
       "2. 26\n",
       "3. 90\n",
       "\n",
       "\n"
      ],
      "text/plain": [
       "[1] 94 26 90"
      ]
     },
     "metadata": {},
     "output_type": "display_data"
    },
    {
     "data": {
      "text/html": [
       "<ol class=list-inline>\n",
       "\t<li>3</li>\n",
       "\t<li>43</li>\n",
       "\t<li>53</li>\n",
       "</ol>\n"
      ],
      "text/latex": [
       "\\begin{enumerate*}\n",
       "\\item 3\n",
       "\\item 43\n",
       "\\item 53\n",
       "\\end{enumerate*}\n"
      ],
      "text/markdown": [
       "1. 3\n",
       "2. 43\n",
       "3. 53\n",
       "\n",
       "\n"
      ],
      "text/plain": [
       "[1]  3 43 53"
      ]
     },
     "metadata": {},
     "output_type": "display_data"
    }
   ],
   "source": [
    "runif(1)\n",
    "# Generar un vector de 4 números aleatorios\n",
    "runif(4)\n",
    "\n",
    "# Obtener un vector de 3 números de 0 a 100\n",
    "runif(3, min=0, max=100)\n",
    "\n",
    "# Obtener 3 enteros de 0 a 100, pregunta, porqué se usa como máximo 101?\n",
    "floor(runif(3, min=0, max=101))\n",
    "\n",
    "# Esto hará lo mismo que lo anterior\n",
    "sample(1:100, 3, replace=TRUE)\n",
    "\n",
    "# Generar enteros SIN reemplazo\n",
    "sample(1:100, 3, replace=FALSE)\n",
    "#> [1] 76 25 52"
   ]
  },
  {
   "cell_type": "markdown",
   "metadata": {},
   "source": [
    "Para generar números con distribución normal, use `rnorm()`. Por defecto, la media es $0$ y la desviación estándar es $1$."
   ]
  },
  {
   "cell_type": "code",
   "execution_count": 12,
   "metadata": {},
   "outputs": [
    {
     "data": {
      "text/html": [
       "<ol class=list-inline>\n",
       "\t<li>-1.21380115673605</li>\n",
       "\t<li>-0.115087867806498</li>\n",
       "\t<li>-2.10649036459125</li>\n",
       "\t<li>0.0829184763067675</li>\n",
       "</ol>\n"
      ],
      "text/latex": [
       "\\begin{enumerate*}\n",
       "\\item -1.21380115673605\n",
       "\\item -0.115087867806498\n",
       "\\item -2.10649036459125\n",
       "\\item 0.0829184763067675\n",
       "\\end{enumerate*}\n"
      ],
      "text/markdown": [
       "1. -1.21380115673605\n",
       "2. -0.115087867806498\n",
       "3. -2.10649036459125\n",
       "4. 0.0829184763067675\n",
       "\n",
       "\n"
      ],
      "text/plain": [
       "[1] -1.21380116 -0.11508787 -2.10649036  0.08291848"
      ]
     },
     "metadata": {},
     "output_type": "display_data"
    },
    {
     "data": {
      "text/html": [
       "<ol class=list-inline>\n",
       "\t<li>45.9574933050622</li>\n",
       "\t<li>38.3067970519783</li>\n",
       "\t<li>35.9648493476662</li>\n",
       "\t<li>55.1821290307742</li>\n",
       "</ol>\n"
      ],
      "text/latex": [
       "\\begin{enumerate*}\n",
       "\\item 45.9574933050622\n",
       "\\item 38.3067970519783\n",
       "\\item 35.9648493476662\n",
       "\\item 55.1821290307742\n",
       "\\end{enumerate*}\n"
      ],
      "text/markdown": [
       "1. 45.9574933050622\n",
       "2. 38.3067970519783\n",
       "3. 35.9648493476662\n",
       "4. 55.1821290307742\n",
       "\n",
       "\n"
      ],
      "text/plain": [
       "[1] 45.95749 38.30680 35.96485 55.18213"
      ]
     },
     "metadata": {},
     "output_type": "display_data"
    },
    {
     "data": {
      "image/png": "[encoded data removed]",
      "text/plain": [
       "Plot with title “Histogram of x”"
      ]
     },
     "metadata": {},
     "output_type": "display_data"
    }
   ],
   "source": [
    "rnorm(4)\n",
    "\n",
    "# Usa diferente media y desviación estandar\n",
    "rnorm(4, mean=50, sd=10)\n",
    "\n",
    "# Histograma de 400 valores generados de una densidad normal.\n",
    "x <- rnorm(400, mean=50, sd=10)\n",
    "hist(x)"
   ]
  },
  {
   "cell_type": "markdown",
   "metadata": {},
   "source": [
    "# Ejercicio\n",
    "¿Qué es lo que hace el comando `set.seed()`? ¿Porqué puede ser relevante?"
   ]
  },
  {
   "cell_type": "code",
   "execution_count": null,
   "metadata": {
    "collapsed": true
   },
   "outputs": [],
   "source": []
  },
  {
   "cell_type": "markdown",
   "metadata": {},
   "source": [
    "A continuación un resumen de los distintos comandos para usar distintas distribuciones en R:\n",
    "\n",
    "* Beta \tpbeta \tqbeta \tdbeta \trbeta\n",
    "* Binomial \tpbinom \tqbinom \tdbinom \trbinom\n",
    "* Cauchy \tpcauchy \tqcauchy \tdcauchy \trcauchy\n",
    "* Chi-Square \tpchisq \tqchisq \tdchisq \trchisq\n",
    "* Exponential \tpexp \tqexp \tdexp \trexp\n",
    "* F \tpf \tqf \tdf \trf\n",
    "* Gamma \tpgamma \tqgamma \tdgamma \trgamma\n",
    "* Geometric \tpgeom \tqgeom \tdgeom \trgeom\n",
    "* Hypergeometric \tphyper \tqhyper \tdhyper \trhyper\n",
    "* Logistic \tplogis \tqlogis \tdlogis \trlogis\n",
    "* Log Normal \tplnorm \tqlnorm \tdlnorm \trlnorm\n",
    "* Negative Binomial \tpnbinom \tqnbinom \tdnbinom \trnbinom\n",
    "* Normal \tpnorm \tqnorm \tdnorm \trnorm\n",
    "* Poisson \tppois \tqpois \tdpois \trpois\n",
    "* Student t \tpt \tqt \tdt \trt\n",
    "* Studentized Range \tptukey \tqtukey \tdtukey \trtukey\n",
    "* Uniform \tpunif \tqunif \tdunif \trunif\n",
    "* Weibull \tpweibull \tqweibull \tdweibull \trweibull\n",
    "* Wilcoxon Rank Sum Statistic \tpwilcox \tqwilcox \tdwilcox \trwilcox\n",
    "* Wilcoxon Signed Rank Statistic \tpsignrank \tqsignrank \tdsignrank \trsignrank"
   ]
  },
  {
   "cell_type": "markdown",
   "metadata": {},
   "source": [
    "`pnorm`  es la función de R que calcula la función de distribución, o densidad acumulada.\n",
    "\n",
    "$F(x) = P(X \\leq x)$\n",
    "\n",
    "donde $X$ es una V.A. normal. Argumentos opcionales están descritos en la documentación online, donde se especifican parámetros para la distribución normal.\n",
    "\n",
    "Los siguientes dos comandos en R hacen exactamente la misma cosa:"
   ]
  },
  {
   "cell_type": "code",
   "execution_count": 13,
   "metadata": {},
   "outputs": [
    {
     "data": {
      "text/html": [
       "0.129238112240018"
      ],
      "text/latex": [
       "0.129238112240018"
      ],
      "text/markdown": [
       "0.129238112240018"
      ],
      "text/plain": [
       "[1] 0.1292381"
      ]
     },
     "metadata": {},
     "output_type": "display_data"
    },
    {
     "data": {
      "text/html": [
       "0.129238112240018"
      ],
      "text/latex": [
       "0.129238112240018"
      ],
      "text/markdown": [
       "0.129238112240018"
      ],
      "text/plain": [
       "[1] 0.1292381"
      ]
     },
     "metadata": {},
     "output_type": "display_data"
    }
   ],
   "source": [
    "pnorm(27.4, mean=50, sd=20)\n",
    "pnorm(27.4, 50, 20)"
   ]
  },
  {
   "cell_type": "markdown",
   "metadata": {},
   "source": [
    "# Ejercicio\n",
    "\n",
    "Halle la $P(X > 19)$ cuando $X \\sim N(17.46, 375.67)$"
   ]
  },
  {
   "cell_type": "code",
   "execution_count": null,
   "metadata": {
    "collapsed": true
   },
   "outputs": [],
   "source": []
  }
 ],
 "metadata": {
  "kernelspec": {
   "display_name": "R",
   "language": "R",
   "name": "ir"
  },
  "language_info": {
   "codemirror_mode": "r",
   "file_extension": ".r",
   "mimetype": "text/x-r-source",
   "name": "R",
   "pygments_lexer": "r",
   "version": "3.4.1"
  }
 },
 "nbformat": 4,
 "nbformat_minor": 2
}
