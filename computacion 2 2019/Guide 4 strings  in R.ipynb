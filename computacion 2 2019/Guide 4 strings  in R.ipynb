{
 "cells": [
  {
   "cell_type": "markdown",
   "metadata": {},
   "source": [
    "# Guía 3: Strings en R\n",
    "Computación 2, IES.\n",
    "Profesor: Eduardo Jorquera, eduardo.jorquera@postgrado.uv.cl\n",
    "\n",
    "## Instalar!\n",
    "\n",
    "Usaremos los siguientes paquetes para manipular cadenas de caracteres:"
   ]
  },
  {
   "cell_type": "code",
   "execution_count": 6,
   "metadata": {},
   "outputs": [
    {
     "name": "stderr",
     "output_type": "stream",
     "text": [
      "── \u001b[1mAttaching packages\u001b[22m ─────────────────────────────────────── tidyverse 1.2.1 ──\n",
      "\u001b[32m✔\u001b[39m \u001b[34mggplot2\u001b[39m 3.2.1     \u001b[32m✔\u001b[39m \u001b[34mpurrr  \u001b[39m 0.3.2\n",
      "\u001b[32m✔\u001b[39m \u001b[34mtibble \u001b[39m 2.1.3     \u001b[32m✔\u001b[39m \u001b[34mdplyr  \u001b[39m 0.8.3\n",
      "\u001b[32m✔\u001b[39m \u001b[34mtidyr  \u001b[39m 0.8.3     \u001b[32m✔\u001b[39m \u001b[34mstringr\u001b[39m 1.4.0\n",
      "\u001b[32m✔\u001b[39m \u001b[34mreadr  \u001b[39m 1.3.1     \u001b[32m✔\u001b[39m \u001b[34mforcats\u001b[39m 0.4.0\n",
      "── \u001b[1mConflicts\u001b[22m ────────────────────────────────────────── tidyverse_conflicts() ──\n",
      "\u001b[31m✖\u001b[39m \u001b[34mdplyr\u001b[39m::\u001b[32mfilter()\u001b[39m masks \u001b[34mstats\u001b[39m::filter()\n",
      "\u001b[31m✖\u001b[39m \u001b[34mdplyr\u001b[39m::\u001b[32mlag()\u001b[39m    masks \u001b[34mstats\u001b[39m::lag()\n"
     ]
    }
   ],
   "source": [
    "library(tidyverse)\n",
    "library(stringr)"
   ]
  },
  {
   "cell_type": "markdown",
   "metadata": {},
   "source": [
    "# Lo básico\n",
    "\n",
    "Puedes crear cadenas de caracteres usando comillas simples o dobles. A diferencia de otros lenguages de programación, esto no hace ninguna diferencia."
   ]
  },
  {
   "cell_type": "code",
   "execution_count": 1,
   "metadata": {
    "collapsed": true
   },
   "outputs": [],
   "source": [
    "string1 <- \"Esto es un string\"\n",
    "string2 <- 'Si quieres incluir \"comillas\" dentro \n",
    "            de un string, usa comillas simples'"
   ]
  },
  {
   "cell_type": "markdown",
   "metadata": {},
   "source": [
    "Si olvidas cerrar las comillas en una línea, en la siguiente línea verás el caracter `+` en la consola de R. Sucede lo mismo cuando dejas una llave, paréntesis o corchete sin cerrar.\n",
    "\n",
    "Para incluir comillas en el texto (en tu cadena de caracteres), puedes usar  `\\` para evitar que la comilla se interprete como el cierre de tu string:"
   ]
  },
  {
   "cell_type": "code",
   "execution_count": 2,
   "metadata": {
    "collapsed": true
   },
   "outputs": [],
   "source": [
    "comillas_dobles  <- \"\\\"\" # ó '\"'\n",
    "comillas_simples <- '\\'' # ó \"'\""
   ]
  },
  {
   "cell_type": "markdown",
   "metadata": {},
   "source": [
    "Esto quiere decir que si quieres incluir un backslash de manera literal, tendrás que escribirlo dos veces: `\"\\\\\"`.\n",
    "\n",
    "Considera que la versión impresa de un arreglo no es el arreglo por sí mismo, ya que la versión que se imprime muestra los \"escapes\". Para ver el contenido crudo de un string, usa la función `writeLines()`:"
   ]
  },
  {
   "cell_type": "code",
   "execution_count": 3,
   "metadata": {},
   "outputs": [
    {
     "data": {
      "text/html": [
       "<ol class=list-inline>\n",
       "\t<li>'\"'</li>\n",
       "\t<li>'\\\\'</li>\n",
       "</ol>\n"
      ],
      "text/latex": [
       "\\begin{enumerate*}\n",
       "\\item '\"'\n",
       "\\item '\\textbackslash{}\\textbackslash{}'\n",
       "\\end{enumerate*}\n"
      ],
      "text/markdown": [
       "1. '\"'\n",
       "2. '\\\\'\n",
       "\n",
       "\n"
      ],
      "text/plain": [
       "[1] \"\\\"\" \"\\\\\""
      ]
     },
     "metadata": {},
     "output_type": "display_data"
    },
    {
     "name": "stdout",
     "output_type": "stream",
     "text": [
      "\"\n",
      "\\\n"
     ]
    }
   ],
   "source": [
    "x <- c(\"\\\"\", \"\\\\\")\n",
    "x\n",
    "writeLines(x)"
   ]
  },
  {
   "cell_type": "markdown",
   "metadata": {},
   "source": [
    "mira lo que sucede usando print:"
   ]
  },
  {
   "cell_type": "code",
   "execution_count": 8,
   "metadata": {},
   "outputs": [
    {
     "name": "stdout",
     "output_type": "stream",
     "text": [
      "[1] \"\\\"\" \"\\\\\"\n"
     ]
    }
   ],
   "source": [
    "print(x)"
   ]
  },
  {
   "cell_type": "markdown",
   "metadata": {},
   "source": [
    "Hay un abanico enorme de caracteres especiales. Lo más comunes son `\"\\n\"`, que es salto de línea, y `\"\\t\"`, que es el espacio de tabulación, pero puedes ver una lista completa usando `?'\"'`, ó `?\"'\"`. También habrán veces que verás cosas como `\"\\u00b5\"`, esto es una manera de escribir caracteres que no necesariamente están en tu distribución de teclado, de tal forma que funcione en todas las plataformas:"
   ]
  },
  {
   "cell_type": "code",
   "execution_count": 10,
   "metadata": {},
   "outputs": [
    {
     "data": {
      "text/html": [
       "'µ'"
      ],
      "text/latex": [
       "'µ'"
      ],
      "text/markdown": [
       "'µ'"
      ],
      "text/plain": [
       "[1] \"µ\""
      ]
     },
     "metadata": {},
     "output_type": "display_data"
    }
   ],
   "source": [
    "x <- \"\\u00b5\"\n",
    "x"
   ]
  },
  {
   "cell_type": "markdown",
   "metadata": {},
   "source": [
    "Caracteres múltiples son almacenados comunmente en vectores de caracteres, que puedes crear con `c()`"
   ]
  },
  {
   "cell_type": "code",
   "execution_count": 11,
   "metadata": {},
   "outputs": [
    {
     "data": {
      "text/html": [
       "<ol class=list-inline>\n",
       "\t<li>'uno'</li>\n",
       "\t<li>'dos'</li>\n",
       "\t<li>'tres'</li>\n",
       "</ol>\n"
      ],
      "text/latex": [
       "\\begin{enumerate*}\n",
       "\\item 'uno'\n",
       "\\item 'dos'\n",
       "\\item 'tres'\n",
       "\\end{enumerate*}\n"
      ],
      "text/markdown": [
       "1. 'uno'\n",
       "2. 'dos'\n",
       "3. 'tres'\n",
       "\n",
       "\n"
      ],
      "text/plain": [
       "[1] \"uno\"  \"dos\"  \"tres\""
      ]
     },
     "metadata": {},
     "output_type": "display_data"
    }
   ],
   "source": [
    "c(\"uno\", \"dos\", \"tres\")"
   ]
  },
  {
   "cell_type": "markdown",
   "metadata": {},
   "source": [
    "# El largo de una cadena de caracteres\n",
    "\n",
    "Dentro de la base de R están contenidas muchas funciones para trabajar con cadenas de caracteres; pero como hemos visto en guías anteriores, las funciones básicas de R pueden sufrir de inconsistencia de sintaxis, por lo que mejor evitaremos su uso. En su lugar, usaremos funciones del paquete `stringr`. Las funciones del paquete son más intuitivas y empiezan con `str_`. Por ejemplo, `str_length()` te dice el número de caracteres de un string:"
   ]
  },
  {
   "cell_type": "code",
   "execution_count": 12,
   "metadata": {},
   "outputs": [
    {
     "data": {
      "text/html": [
       "<ol class=list-inline>\n",
       "\t<li>1</li>\n",
       "\t<li>14</li>\n",
       "\t<li>1</li>\n",
       "\t<li>&lt;NA&gt;</li>\n",
       "</ol>\n"
      ],
      "text/latex": [
       "\\begin{enumerate*}\n",
       "\\item 1\n",
       "\\item 14\n",
       "\\item 1\n",
       "\\item <NA>\n",
       "\\end{enumerate*}\n"
      ],
      "text/markdown": [
       "1. 1\n",
       "2. 14\n",
       "3. 1\n",
       "4. &lt;NA&gt;\n",
       "\n",
       "\n"
      ],
      "text/plain": [
       "[1]  1 14  1 NA"
      ]
     },
     "metadata": {},
     "output_type": "display_data"
    }
   ],
   "source": [
    "str_length(c(\"a\", \"Computación II\", \"\\u00b5\", NA))"
   ]
  },
  {
   "cell_type": "markdown",
   "metadata": {},
   "source": [
    "# Combinando strings\n",
    "\n",
    "Para combinar dos o más strings, usa `str_c()`:"
   ]
  },
  {
   "cell_type": "code",
   "execution_count": 13,
   "metadata": {},
   "outputs": [
    {
     "data": {
      "text/html": [
       "'xy'"
      ],
      "text/latex": [
       "'xy'"
      ],
      "text/markdown": [
       "'xy'"
      ],
      "text/plain": [
       "[1] \"xy\""
      ]
     },
     "metadata": {},
     "output_type": "display_data"
    },
    {
     "data": {
      "text/html": [
       "'xyz'"
      ],
      "text/latex": [
       "'xyz'"
      ],
      "text/markdown": [
       "'xyz'"
      ],
      "text/plain": [
       "[1] \"xyz\""
      ]
     },
     "metadata": {},
     "output_type": "display_data"
    }
   ],
   "source": [
    "str_c(\"x\", \"y\")\n",
    "str_c(\"x\", \"y\", \"z\")"
   ]
  },
  {
   "cell_type": "markdown",
   "metadata": {},
   "source": [
    "puedes controlar la manera en que se separa usando el argumento `sep`:"
   ]
  },
  {
   "cell_type": "code",
   "execution_count": 15,
   "metadata": {},
   "outputs": [
    {
     "data": {
      "text/html": [
       "'x, y'"
      ],
      "text/latex": [
       "'x, y'"
      ],
      "text/markdown": [
       "'x, y'"
      ],
      "text/plain": [
       "[1] \"x, y\""
      ]
     },
     "metadata": {},
     "output_type": "display_data"
    }
   ],
   "source": [
    "str_c(\"x\", \"y\", sep = \", \")"
   ]
  },
  {
   "cell_type": "markdown",
   "metadata": {},
   "source": [
    "Como muchas funciones en R, los valores perdidos son un problema bastante común (más de lo que te imaginas). Si los quieres mostrar como `\"NA\"`, usa `str_replace_na()`:"
   ]
  },
  {
   "cell_type": "code",
   "execution_count": 17,
   "metadata": {},
   "outputs": [
    {
     "data": {
      "text/html": [
       "<ol class=list-inline>\n",
       "\t<li>'|-abc-|'</li>\n",
       "\t<li>NA</li>\n",
       "</ol>\n"
      ],
      "text/latex": [
       "\\begin{enumerate*}\n",
       "\\item '\\textbar{}-abc-\\textbar{}'\n",
       "\\item NA\n",
       "\\end{enumerate*}\n"
      ],
      "text/markdown": [
       "1. '|-abc-|'\n",
       "2. NA\n",
       "\n",
       "\n"
      ],
      "text/plain": [
       "[1] \"|-abc-|\" NA       "
      ]
     },
     "metadata": {},
     "output_type": "display_data"
    },
    {
     "data": {
      "text/html": [
       "<ol class=list-inline>\n",
       "\t<li>'|-abc-|'</li>\n",
       "\t<li>'|-NA-|'</li>\n",
       "</ol>\n"
      ],
      "text/latex": [
       "\\begin{enumerate*}\n",
       "\\item '\\textbar{}-abc-\\textbar{}'\n",
       "\\item '\\textbar{}-NA-\\textbar{}'\n",
       "\\end{enumerate*}\n"
      ],
      "text/markdown": [
       "1. '|-abc-|'\n",
       "2. '|-NA-|'\n",
       "\n",
       "\n"
      ],
      "text/plain": [
       "[1] \"|-abc-|\" \"|-NA-|\" "
      ]
     },
     "metadata": {},
     "output_type": "display_data"
    }
   ],
   "source": [
    "x <- c(\"abc\", NA)\n",
    "str_c(\"|-\", x, \"-|\")\n",
    "\n",
    "str_c(\"|-\", str_replace_na(x), \"-|\")"
   ]
  },
  {
   "cell_type": "markdown",
   "metadata": {},
   "source": [
    "Como se mostró anteriormente, `str_c()` es vectorizado, y automáticamente reciclará vectores más cortos al mismo largo que el de mayor largo:"
   ]
  },
  {
   "cell_type": "code",
   "execution_count": 21,
   "metadata": {},
   "outputs": [
    {
     "data": {
      "text/html": [
       "<ol class=list-inline>\n",
       "\t<li>'prefijo-a-subfijo'</li>\n",
       "\t<li>'prefijo-b-subfijo'</li>\n",
       "\t<li>'prefijo-c-subfijo'</li>\n",
       "</ol>\n"
      ],
      "text/latex": [
       "\\begin{enumerate*}\n",
       "\\item 'prefijo-a-subfijo'\n",
       "\\item 'prefijo-b-subfijo'\n",
       "\\item 'prefijo-c-subfijo'\n",
       "\\end{enumerate*}\n"
      ],
      "text/markdown": [
       "1. 'prefijo-a-subfijo'\n",
       "2. 'prefijo-b-subfijo'\n",
       "3. 'prefijo-c-subfijo'\n",
       "\n",
       "\n"
      ],
      "text/plain": [
       "[1] \"prefijo-a-subfijo\" \"prefijo-b-subfijo\" \"prefijo-c-subfijo\""
      ]
     },
     "metadata": {},
     "output_type": "display_data"
    }
   ],
   "source": [
    "str_c(\"prefijo-\", c(\"a\", \"b\", \"c\"), \"-subfijo\")"
   ]
  },
  {
   "cell_type": "markdown",
   "metadata": {},
   "source": [
    "Los objetos de largo 0, son silenciosamente borrados. Esto es particularmente útil en conjunción con `if`:"
   ]
  },
  {
   "cell_type": "code",
   "execution_count": 26,
   "metadata": {},
   "outputs": [
    {
     "data": {
      "text/html": [
       "'good morning Roberto.'"
      ],
      "text/latex": [
       "'good morning Roberto.'"
      ],
      "text/markdown": [
       "'good morning Roberto.'"
      ],
      "text/plain": [
       "[1] \"good morning Roberto.\""
      ]
     },
     "metadata": {},
     "output_type": "display_data"
    }
   ],
   "source": [
    "nombre <- \"Roberto\"\n",
    "momento_del_dia <- \"morning\"\n",
    "cumple <- FALSE\n",
    "\n",
    "str_c(\n",
    "  \"good \", momento_del_dia, \" \", nombre,\n",
    "  if (cumple) \" and HAPPY BIRTHDAY\",\n",
    "  \".\"\n",
    ")"
   ]
  },
  {
   "cell_type": "markdown",
   "metadata": {},
   "source": [
    "# Actividad\n",
    "\n",
    "Cree una función en R donde se retorne una vaca enviando un mensaje, donde el cuadro de diálogo se ajuste al largo del texto. Si el largo del texto es demasiado grande, haga que el resultado se imprima en más de una línea.\n",
    "\n",
    "Lo más básico de una función (puedes usar o no el `return()` a conveniencia:"
   ]
  },
  {
   "cell_type": "code",
   "execution_count": 33,
   "metadata": {},
   "outputs": [
    {
     "data": {
      "text/html": [
       "'el resultado es: 6'"
      ],
      "text/latex": [
       "'el resultado es: 6'"
      ],
      "text/markdown": [
       "'el resultado es: 6'"
      ],
      "text/plain": [
       "[1] \"el resultado es: 6\""
      ]
     },
     "metadata": {},
     "output_type": "display_data"
    }
   ],
   "source": [
    "f <- function(a,b,c)\n",
    "    return(str_c(\"el resultado es\", a+b+c,sep=\": \"))\n",
    "f(1,2,3)"
   ]
  },
  {
   "cell_type": "code",
   "execution_count": null,
   "metadata": {
    "collapsed": true
   },
   "outputs": [],
   "source": [
    " _____\n",
    "< moo >\n",
    " -----\n",
    "        \\   ^__^\n",
    "         \\  (oo)\\_______\n",
    "            (__)\\       )\\/\\ \n",
    "                ||----w |\n",
    "                ||     ||"
   ]
  }
 ],
 "metadata": {
  "kernelspec": {
   "display_name": "R",
   "language": "R",
   "name": "ir"
  },
  "language_info": {
   "codemirror_mode": "r",
   "file_extension": ".r",
   "mimetype": "text/x-r-source",
   "name": "R",
   "pygments_lexer": "r",
   "version": "3.5.3"
  }
 },
 "nbformat": 4,
 "nbformat_minor": 2
}
