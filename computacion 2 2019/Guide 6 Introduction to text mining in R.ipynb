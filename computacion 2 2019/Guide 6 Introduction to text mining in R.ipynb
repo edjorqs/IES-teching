{
 "cells": [
  {
   "cell_type": "markdown",
   "metadata": {},
   "source": [
    "# Guía 6: Introducción a la minería de datos textuales en R\n",
    "\n",
    "Computación 2, IES.\n",
    "Profesor: Eduardo Jorquera, eduardo.jorquera@postgrado.uv.cl\n",
    "\n",
    "# Datos ordenados\n",
    "\n",
    "Recuerdas los principios de los datos ordenados en R? Te refrescaré la memoria, un conjunto de datos se dice que está ordenado si:\n",
    "* Las observaciones están en filas\n",
    "* Las variables están en columnas\n",
    "* Está contenido en un solo dataset\n",
    "\n",
    "Esto último, dice que cada tipo de unidad observacional es una tabla.\n",
    "\n",
    "Dado esto, podemos definir un formato de texto ordenado como una tabla con \"un *token* por fila\". \n",
    "\n",
    "## Pregunta: ¿Qué es un token? ¿Qué es \"tokenizar\"?"
   ]
  },
  {
   "cell_type": "code",
   "execution_count": null,
   "metadata": {
    "collapsed": true
   },
   "outputs": [],
   "source": []
  },
  {
   "cell_type": "markdown",
   "metadata": {},
   "source": [
    "La estructura de un token por fila va es opuesto con la forma en que el texto es almacenado en los análisis actualmente.\n",
    "\n",
    "El paquete dplyr (que ya hemos visto con anterioridad), entre otros, permite la manipulación de datos ordenados.\n",
    "\n",
    "# Contrastando el texto ordenado con otras estructuras de datos\n",
    "\n",
    "Como vimos anteriormente, nos avocaremos al formato de texto de un token por fila. Estructurar los datos textuales de esta manera, quiere decir que se conformará a los principios de los datos ordenados, y que podrán ser manipulados con un conjunto de herramientas consistentes. Vale la pena contrastar las diferentes formas que hay de almacenar texto en minería de datos textuales:\n",
    "* String: El texto puede (obviamente) ser guardado como strings, cadenas de caracters. En programas como R, el texto siempre se lee primero en este formato. Aquí entran los vectores con cadenas de caracteres, strings n-dimensionales, etc.\n",
    "* Corpus: Este tipo de objeto típicamente contiene las filas de texto (strings) anotadas con metadata adicional y más detalles.\n",
    "* Matriz documento-término (term-document matrix): Ésta es una matriz sparse que describe una colección (es decir, un corpus) de documentos con una fila por cada documento y una columna por cada término. El valor del elemento i-j-ésimo de la matriz corresponde a la frecuencia de la palabra j-ésimo en el i-ésimo documento, u otra medida de frecuencia.\n",
    "\n",
    "# La función `unnest_tokens`\n",
    "\n",
    "Aquí un párrafo de Antonio Machado:"
   ]
  },
  {
   "cell_type": "code",
   "execution_count": 3,
   "metadata": {},
   "outputs": [
    {
     "data": {
      "text/html": [
       "<ol class=list-inline>\n",
       "\t<li>'Este donquijotesco'</li>\n",
       "\t<li>'don Miguel de Unamuno, fuerte vasco,'</li>\n",
       "\t<li>'lleva el arnés grotesco'</li>\n",
       "\t<li>'y el irrisorio casco'</li>\n",
       "\t<li>'del buen manchego. Don Miguel camina,'</li>\n",
       "\t<li>'jinete de quimérica montura,'</li>\n",
       "\t<li>'metiendo espuela de oro a su locura,'</li>\n",
       "\t<li>'sin miedo de la lengua que malsina.'</li>\n",
       "</ol>\n"
      ],
      "text/latex": [
       "\\begin{enumerate*}\n",
       "\\item 'Este donquijotesco'\n",
       "\\item 'don Miguel de Unamuno, fuerte vasco,'\n",
       "\\item 'lleva el arnés grotesco'\n",
       "\\item 'y el irrisorio casco'\n",
       "\\item 'del buen manchego. Don Miguel camina,'\n",
       "\\item 'jinete de quimérica montura,'\n",
       "\\item 'metiendo espuela de oro a su locura,'\n",
       "\\item 'sin miedo de la lengua que malsina.'\n",
       "\\end{enumerate*}\n"
      ],
      "text/markdown": [
       "1. 'Este donquijotesco'\n",
       "2. 'don Miguel de Unamuno, fuerte vasco,'\n",
       "3. 'lleva el arnés grotesco'\n",
       "4. 'y el irrisorio casco'\n",
       "5. 'del buen manchego. Don Miguel camina,'\n",
       "6. 'jinete de quimérica montura,'\n",
       "7. 'metiendo espuela de oro a su locura,'\n",
       "8. 'sin miedo de la lengua que malsina.'\n",
       "\n",
       "\n"
      ],
      "text/plain": [
       "[1] \"Este donquijotesco\"                   \n",
       "[2] \"don Miguel de Unamuno, fuerte vasco,\" \n",
       "[3] \"lleva el arnés grotesco\"              \n",
       "[4] \"y el irrisorio casco\"                 \n",
       "[5] \"del buen manchego. Don Miguel camina,\"\n",
       "[6] \"jinete de quimérica montura,\"         \n",
       "[7] \"metiendo espuela de oro a su locura,\" \n",
       "[8] \"sin miedo de la lengua que malsina.\"  "
      ]
     },
     "metadata": {},
     "output_type": "display_data"
    }
   ],
   "source": [
    "texto <- c(\"Este donquijotesco\",\n",
    "           \"don Miguel de Unamuno, fuerte vasco,\",\n",
    "           \"lleva el arnés grotesco\",\n",
    "           \"y el irrisorio casco\",\n",
    "           \"del buen manchego. Don Miguel camina,\",\n",
    "           \"jinete de quimérica montura,\",\n",
    "           \"metiendo espuela de oro a su locura,\",\n",
    "           \"sin miedo de la lengua que malsina.\")\n",
    "texto"
   ]
  },
  {
   "cell_type": "markdown",
   "metadata": {},
   "source": [
    "Éste es un tícipo vector de caracteres que podemos analizar. Con el objeto de ponerlo en forma de datos ordenados, primero debemos ponerlo en un dataframe."
   ]
  },
  {
   "cell_type": "code",
   "execution_count": 6,
   "metadata": {},
   "outputs": [
    {
     "data": {
      "text/html": [
       "<table>\n",
       "<caption>A tibble: 8 × 2</caption>\n",
       "<thead>\n",
       "\t<tr><th scope=col>line</th><th scope=col>text</th></tr>\n",
       "\t<tr><th scope=col>&lt;int&gt;</th><th scope=col>&lt;chr&gt;</th></tr>\n",
       "</thead>\n",
       "<tbody>\n",
       "\t<tr><td>1</td><td>Este donquijotesco                   </td></tr>\n",
       "\t<tr><td>2</td><td>don Miguel de Unamuno, fuerte vasco, </td></tr>\n",
       "\t<tr><td>3</td><td>lleva el arnés grotesco              </td></tr>\n",
       "\t<tr><td>4</td><td>y el irrisorio casco                 </td></tr>\n",
       "\t<tr><td>5</td><td>del buen manchego. Don Miguel camina,</td></tr>\n",
       "\t<tr><td>6</td><td>jinete de quimérica montura,         </td></tr>\n",
       "\t<tr><td>7</td><td>metiendo espuela de oro a su locura, </td></tr>\n",
       "\t<tr><td>8</td><td>sin miedo de la lengua que malsina.  </td></tr>\n",
       "</tbody>\n",
       "</table>\n"
      ],
      "text/latex": [
       "A tibble: 8 × 2\n",
       "\\begin{tabular}{r|ll}\n",
       " line & text\\\\\n",
       " <int> & <chr>\\\\\n",
       "\\hline\n",
       "\t 1 & Este donquijotesco                   \\\\\n",
       "\t 2 & don Miguel de Unamuno, fuerte vasco, \\\\\n",
       "\t 3 & lleva el arnés grotesco              \\\\\n",
       "\t 4 & y el irrisorio casco                 \\\\\n",
       "\t 5 & del buen manchego. Don Miguel camina,\\\\\n",
       "\t 6 & jinete de quimérica montura,         \\\\\n",
       "\t 7 & metiendo espuela de oro a su locura, \\\\\n",
       "\t 8 & sin miedo de la lengua que malsina.  \\\\\n",
       "\\end{tabular}\n"
      ],
      "text/markdown": [
       "\n",
       "A tibble: 8 × 2\n",
       "\n",
       "| line &lt;int&gt; | text &lt;chr&gt; |\n",
       "|---|---|\n",
       "| 1 | Este donquijotesco                    |\n",
       "| 2 | don Miguel de Unamuno, fuerte vasco,  |\n",
       "| 3 | lleva el arnés grotesco               |\n",
       "| 4 | y el irrisorio casco                  |\n",
       "| 5 | del buen manchego. Don Miguel camina, |\n",
       "| 6 | jinete de quimérica montura,          |\n",
       "| 7 | metiendo espuela de oro a su locura,  |\n",
       "| 8 | sin miedo de la lengua que malsina.   |\n",
       "\n"
      ],
      "text/plain": [
       "  line text                                 \n",
       "1 1    Este donquijotesco                   \n",
       "2 2    don Miguel de Unamuno, fuerte vasco, \n",
       "3 3    lleva el arnés grotesco              \n",
       "4 4    y el irrisorio casco                 \n",
       "5 5    del buen manchego. Don Miguel camina,\n",
       "6 6    jinete de quimérica montura,         \n",
       "7 7    metiendo espuela de oro a su locura, \n",
       "8 8    sin miedo de la lengua que malsina.  "
      ]
     },
     "metadata": {},
     "output_type": "display_data"
    }
   ],
   "source": [
    "library(dplyr)\n",
    "text_df <- tibble(line = 1:length(texto), text = texto)\n",
    "\n",
    "text_df"
   ]
  },
  {
   "cell_type": "markdown",
   "metadata": {},
   "source": [
    "## Pregunta: ¿Qué quiere decir que el dataframe sea \"tibble\"?"
   ]
  },
  {
   "cell_type": "code",
   "execution_count": null,
   "metadata": {
    "collapsed": true
   },
   "outputs": [],
   "source": []
  },
  {
   "cell_type": "markdown",
   "metadata": {},
   "source": [
    "Nota que el dataframe que contiene el texto aún no es compatible con el concepto de *datos ordenados*. Podemos filtrar palabras o contar las que ocurren con mayor frecuencia, ya que cada fila está hecha con múltiples palabras combinadas. Necesitamos convertirlas para que queden como *un token por documento por palabra*.\n",
    "\n",
    "Dentro del trabajo de texto ordenado, necesitamos *tokenizar* el texto y transformarlo en datos ordenados. Para esto, usamos la función `unnest_tokens()`:"
   ]
  },
  {
   "cell_type": "code",
   "execution_count": 9,
   "metadata": {},
   "outputs": [
    {
     "data": {
      "text/html": [
       "<table>\n",
       "<caption>A tibble: 40 × 2</caption>\n",
       "<thead>\n",
       "\t<tr><th scope=col>line</th><th scope=col>word</th></tr>\n",
       "\t<tr><th scope=col>&lt;int&gt;</th><th scope=col>&lt;chr&gt;</th></tr>\n",
       "</thead>\n",
       "<tbody>\n",
       "\t<tr><td>1</td><td>este         </td></tr>\n",
       "\t<tr><td>1</td><td>donquijotesco</td></tr>\n",
       "\t<tr><td>2</td><td>don          </td></tr>\n",
       "\t<tr><td>2</td><td>miguel       </td></tr>\n",
       "\t<tr><td>2</td><td>de           </td></tr>\n",
       "\t<tr><td>2</td><td>unamuno      </td></tr>\n",
       "\t<tr><td>2</td><td>fuerte       </td></tr>\n",
       "\t<tr><td>2</td><td>vasco        </td></tr>\n",
       "\t<tr><td>3</td><td>lleva        </td></tr>\n",
       "\t<tr><td>3</td><td>el           </td></tr>\n",
       "\t<tr><td>3</td><td>arnés        </td></tr>\n",
       "\t<tr><td>3</td><td>grotesco     </td></tr>\n",
       "\t<tr><td>4</td><td>y            </td></tr>\n",
       "\t<tr><td>4</td><td>el           </td></tr>\n",
       "\t<tr><td>4</td><td>irrisorio    </td></tr>\n",
       "\t<tr><td>4</td><td>casco        </td></tr>\n",
       "\t<tr><td>5</td><td>del          </td></tr>\n",
       "\t<tr><td>5</td><td>buen         </td></tr>\n",
       "\t<tr><td>5</td><td>manchego     </td></tr>\n",
       "\t<tr><td>5</td><td>don          </td></tr>\n",
       "\t<tr><td>5</td><td>miguel       </td></tr>\n",
       "\t<tr><td>5</td><td>camina       </td></tr>\n",
       "\t<tr><td>6</td><td>jinete       </td></tr>\n",
       "\t<tr><td>6</td><td>de           </td></tr>\n",
       "\t<tr><td>6</td><td>quimérica    </td></tr>\n",
       "\t<tr><td>6</td><td>montura      </td></tr>\n",
       "\t<tr><td>7</td><td>metiendo     </td></tr>\n",
       "\t<tr><td>7</td><td>espuela      </td></tr>\n",
       "\t<tr><td>7</td><td>de           </td></tr>\n",
       "\t<tr><td>7</td><td>oro          </td></tr>\n",
       "\t<tr><td>7</td><td>a            </td></tr>\n",
       "\t<tr><td>7</td><td>su           </td></tr>\n",
       "\t<tr><td>7</td><td>locura       </td></tr>\n",
       "\t<tr><td>8</td><td>sin          </td></tr>\n",
       "\t<tr><td>8</td><td>miedo        </td></tr>\n",
       "\t<tr><td>8</td><td>de           </td></tr>\n",
       "\t<tr><td>8</td><td>la           </td></tr>\n",
       "\t<tr><td>8</td><td>lengua       </td></tr>\n",
       "\t<tr><td>8</td><td>que          </td></tr>\n",
       "\t<tr><td>8</td><td>malsina      </td></tr>\n",
       "</tbody>\n",
       "</table>\n"
      ],
      "text/latex": [
       "A tibble: 40 × 2\n",
       "\\begin{tabular}{r|ll}\n",
       " line & word\\\\\n",
       " <int> & <chr>\\\\\n",
       "\\hline\n",
       "\t 1 & este         \\\\\n",
       "\t 1 & donquijotesco\\\\\n",
       "\t 2 & don          \\\\\n",
       "\t 2 & miguel       \\\\\n",
       "\t 2 & de           \\\\\n",
       "\t 2 & unamuno      \\\\\n",
       "\t 2 & fuerte       \\\\\n",
       "\t 2 & vasco        \\\\\n",
       "\t 3 & lleva        \\\\\n",
       "\t 3 & el           \\\\\n",
       "\t 3 & arnés        \\\\\n",
       "\t 3 & grotesco     \\\\\n",
       "\t 4 & y            \\\\\n",
       "\t 4 & el           \\\\\n",
       "\t 4 & irrisorio    \\\\\n",
       "\t 4 & casco        \\\\\n",
       "\t 5 & del          \\\\\n",
       "\t 5 & buen         \\\\\n",
       "\t 5 & manchego     \\\\\n",
       "\t 5 & don          \\\\\n",
       "\t 5 & miguel       \\\\\n",
       "\t 5 & camina       \\\\\n",
       "\t 6 & jinete       \\\\\n",
       "\t 6 & de           \\\\\n",
       "\t 6 & quimérica    \\\\\n",
       "\t 6 & montura      \\\\\n",
       "\t 7 & metiendo     \\\\\n",
       "\t 7 & espuela      \\\\\n",
       "\t 7 & de           \\\\\n",
       "\t 7 & oro          \\\\\n",
       "\t 7 & a            \\\\\n",
       "\t 7 & su           \\\\\n",
       "\t 7 & locura       \\\\\n",
       "\t 8 & sin          \\\\\n",
       "\t 8 & miedo        \\\\\n",
       "\t 8 & de           \\\\\n",
       "\t 8 & la           \\\\\n",
       "\t 8 & lengua       \\\\\n",
       "\t 8 & que          \\\\\n",
       "\t 8 & malsina      \\\\\n",
       "\\end{tabular}\n"
      ],
      "text/markdown": [
       "\n",
       "A tibble: 40 × 2\n",
       "\n",
       "| line &lt;int&gt; | word &lt;chr&gt; |\n",
       "|---|---|\n",
       "| 1 | este          |\n",
       "| 1 | donquijotesco |\n",
       "| 2 | don           |\n",
       "| 2 | miguel        |\n",
       "| 2 | de            |\n",
       "| 2 | unamuno       |\n",
       "| 2 | fuerte        |\n",
       "| 2 | vasco         |\n",
       "| 3 | lleva         |\n",
       "| 3 | el            |\n",
       "| 3 | arnés         |\n",
       "| 3 | grotesco      |\n",
       "| 4 | y             |\n",
       "| 4 | el            |\n",
       "| 4 | irrisorio     |\n",
       "| 4 | casco         |\n",
       "| 5 | del           |\n",
       "| 5 | buen          |\n",
       "| 5 | manchego      |\n",
       "| 5 | don           |\n",
       "| 5 | miguel        |\n",
       "| 5 | camina        |\n",
       "| 6 | jinete        |\n",
       "| 6 | de            |\n",
       "| 6 | quimérica     |\n",
       "| 6 | montura       |\n",
       "| 7 | metiendo      |\n",
       "| 7 | espuela       |\n",
       "| 7 | de            |\n",
       "| 7 | oro           |\n",
       "| 7 | a             |\n",
       "| 7 | su            |\n",
       "| 7 | locura        |\n",
       "| 8 | sin           |\n",
       "| 8 | miedo         |\n",
       "| 8 | de            |\n",
       "| 8 | la            |\n",
       "| 8 | lengua        |\n",
       "| 8 | que           |\n",
       "| 8 | malsina       |\n",
       "\n"
      ],
      "text/plain": [
       "   line word         \n",
       "1  1    este         \n",
       "2  1    donquijotesco\n",
       "3  2    don          \n",
       "4  2    miguel       \n",
       "5  2    de           \n",
       "6  2    unamuno      \n",
       "7  2    fuerte       \n",
       "8  2    vasco        \n",
       "9  3    lleva        \n",
       "10 3    el           \n",
       "11 3    arnés        \n",
       "12 3    grotesco     \n",
       "13 4    y            \n",
       "14 4    el           \n",
       "15 4    irrisorio    \n",
       "16 4    casco        \n",
       "17 5    del          \n",
       "18 5    buen         \n",
       "19 5    manchego     \n",
       "20 5    don          \n",
       "21 5    miguel       \n",
       "22 5    camina       \n",
       "23 6    jinete       \n",
       "24 6    de           \n",
       "25 6    quimérica    \n",
       "26 6    montura      \n",
       "27 7    metiendo     \n",
       "28 7    espuela      \n",
       "29 7    de           \n",
       "30 7    oro          \n",
       "31 7    a            \n",
       "32 7    su           \n",
       "33 7    locura       \n",
       "34 8    sin          \n",
       "35 8    miedo        \n",
       "36 8    de           \n",
       "37 8    la           \n",
       "38 8    lengua       \n",
       "39 8    que          \n",
       "40 8    malsina      "
      ]
     },
     "metadata": {},
     "output_type": "display_data"
    }
   ],
   "source": [
    "library(tidytext)\n",
    "\n",
    "text_df %>%\n",
    "  unnest_tokens(word, text)"
   ]
  },
  {
   "cell_type": "markdown",
   "metadata": {},
   "source": [
    "Aquí los argumentos básicos para usar esta función, son nombres de columnas. Primero nombramos a la columna que tenrá el output de la función, y luego a la columna que contiene el texto en el dataframe en donde están los datos.\n",
    "\n",
    "Luego de usar `unnest_tokens`, separaremos cada fila de tal forma que sea un token (término) cada una; por defecto, la tokenización se hace para cada palabra. También nota lo siguiente:\n",
    "* Otras columnas, tales como el número de la línea de dónde viene cada palabra, es retenido.\n",
    "* La puntuación es omitida (ignorada).\n",
    "* Por defecto, `unnest_tokens()` convierte los tokens a minúsculas, lo que las hace más facil de comparar o combinar con otros conjuntos de datos. Puedes usar el argumento `to_lower = FALSE` para evitar este comportamiento.\n",
    "\n",
    "Teniendo datos textuales en este formato, permitirá manipular, procesar y visualizar el texto usando el conjunto estándar de herramientas de datos ordenados (dplyr, tidyr, ggplot2). En la siguiente figura, te muestro el típico diagrama de anaálisis de texto usando los principios de datos ordenados. En las siguientes guías veremos cómo visualizar el texto usando estas herramientas.\n",
    "\n",
    "![title](img.png)"
   ]
  }
 ],
 "metadata": {
  "kernelspec": {
   "display_name": "R",
   "language": "R",
   "name": "ir"
  },
  "language_info": {
   "codemirror_mode": "r",
   "file_extension": ".r",
   "mimetype": "text/x-r-source",
   "name": "R",
   "pygments_lexer": "r",
   "version": "3.5.3"
  }
 },
 "nbformat": 4,
 "nbformat_minor": 2
}
